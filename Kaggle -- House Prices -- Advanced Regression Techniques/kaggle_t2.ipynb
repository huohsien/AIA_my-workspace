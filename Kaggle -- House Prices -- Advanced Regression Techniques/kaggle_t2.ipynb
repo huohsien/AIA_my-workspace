{
 "cells": [
  {
   "cell_type": "code",
   "execution_count": 1,
   "metadata": {},
   "outputs": [
    {
     "name": "stderr",
     "output_type": "stream",
     "text": [
      "/Users/huohsien/anaconda2/envs/ai/lib/python3.7/site-packages/xgboost/core.py:587: FutureWarning: Series.base is deprecated and will be removed in a future version\n",
      "  if getattr(data, 'base', None) is not None and \\\n"
     ]
    },
    {
     "data": {
      "text/plain": [
       "XGBRegressor(alpha=0, base_score=0.5, booster='gbtree', colsample_bylevel=1,\n",
       "       colsample_bytree=0.3, gamma=0, importance_type='gain',\n",
       "       learning_rate=0.1, max_delta_step=0, max_depth=3,\n",
       "       min_child_weight=1, missing=None, n_estimators=500, n_jobs=1,\n",
       "       nthread=None, objective='reg:linear', random_state=0, reg_alpha=0,\n",
       "       reg_lambda=1, scale_pos_weight=1, seed=None, silent=True,\n",
       "       subsample=1)"
      ]
     },
     "execution_count": 1,
     "metadata": {},
     "output_type": "execute_result"
    }
   ],
   "source": [
    "import numpy as np\n",
    "import pandas as pd\n",
    "from sklearn.ensemble import RandomForestRegressor\n",
    "import xgboost as xgb\n",
    "from sklearn.model_selection import train_test_split\n",
    "from sklearn.metrics import mean_squared_error\n",
    "\n",
    "\n",
    "# Read the data\n",
    "data = pd.read_csv('./house-prices-advanced-regression-techniques/train.csv')\n",
    "\n",
    "\n",
    "# pull data into target (y) and predictors (X)\n",
    "predictor_cols = ['LotArea', 'OverallQual', 'YearBuilt', 'TotRmsAbvGrd']\n",
    "\n",
    "predictor_cols1 = ['OpenPorchSF', 'YearRemodAdd', 'Fireplaces', 'KitchenAbvGr', 'TotRmsAbvGrd', 'OverallQual', '2ndFlrSF', 'GarageArea', '3SsnPorch', 'GarageCars', 'WoodDeckSF', 'HalfBath', 'GrLivArea', 'EnclosedPorch', 'MSSubClass', 'FullBath', 'ScreenPorch', 'PoolArea', 'MiscVal', 'LotArea', 'LowQualFinSF', 'BedroomAbvGr', 'BsmtHalfBath', 'OverallCond', 'BsmtFinSF1', 'TotalBsmtSF', 'BsmtFinSF2', '1stFlrSF', 'YrSold', 'YearBuilt', 'MoSold', 'BsmtFullBath', 'BsmtUnfSF']\n",
    "# Create training predictors data\n",
    "X = data[predictor_cols1]\n",
    "#y = data.SalePrice\n",
    "y = np.log(data.SalePrice)\n",
    "\n",
    "X_train, X_test, y_train, y_test = train_test_split(X, y, test_size = 0.3)\n",
    "\n",
    "\n",
    "#my_model = RandomForestRegressor()\n",
    "\n",
    "my_model = xgb.XGBRegressor(objective ='reg:linear', colsample_bytree = 0.3, learning_rate = 0.1, max_depth = 3, alpha = 0, n_estimators = 500)\n",
    "\n",
    "\n",
    "my_model.fit(X_train, y_train)"
   ]
  },
  {
   "cell_type": "code",
   "execution_count": 3,
   "metadata": {},
   "outputs": [
    {
     "name": "stdout",
     "output_type": "stream",
     "text": [
      "RMSE: 0.138287\n"
     ]
    }
   ],
   "source": [
    "# model evaluation\n",
    "y_pred = my_model.predict(X_test)\n",
    "rmse = np.sqrt(mean_squared_error(y_test, y_pred))\n",
    "#rmse = np.sqrt(mean_squared_error(y_test, preds))\n",
    "\n",
    "print(\"RMSE: %f\" % (rmse))"
   ]
  },
  {
   "cell_type": "code",
   "execution_count": 6,
   "metadata": {},
   "outputs": [
    {
     "name": "stdout",
     "output_type": "stream",
     "text": [
      "0.20.3\n"
     ]
    }
   ],
   "source": [
    "import sklearn \n",
    "print (sklearn.__version__)"
   ]
  },
  {
   "cell_type": "code",
   "execution_count": 10,
   "metadata": {},
   "outputs": [
    {
     "name": "stdout",
     "output_type": "stream",
     "text": [
      "<class 'numpy.ndarray'>\n"
     ]
    }
   ],
   "source": [
    "## For submitting the result\n",
    "#\n",
    "# Read the test data\n",
    "test = pd.read_csv('./house-prices-advanced-regression-techniques/test.csv')\n",
    "# Treat the test data in the same way as training data. In this case, pull same columns.\n",
    "test_X = test[predictor_cols1]\n",
    "\n",
    "from sklearn.impute import SimpleImputer\n",
    "my_imputer = SimpleImputer()\n",
    "test_X = my_imputer.fit_transform(test_X)\n",
    "\n",
    "print(type(test_X))\n",
    "# get columns with missing data\n",
    "# cols_with_missing = [col for col in test_X.columns if test_X[col].isnull().any()]\n",
    "# print(\"missing data: \", cols_with_missing)\n",
    "\n",
    "# Use the model to make predictions\n",
    "\n",
    "# predicted_prices = my_model.predict(test_X)\n",
    "\n",
    "# We will look at the predicted prices to ensure we have something sensible.\n",
    "\n",
    "# print(predicted_prices)"
   ]
  }
 ],
 "metadata": {
  "kernelspec": {
   "display_name": "Python 3",
   "language": "python",
   "name": "python3"
  },
  "language_info": {
   "codemirror_mode": {
    "name": "ipython",
    "version": 3
   },
   "file_extension": ".py",
   "mimetype": "text/x-python",
   "name": "python",
   "nbconvert_exporter": "python",
   "pygments_lexer": "ipython3",
   "version": "3.7.2"
  }
 },
 "nbformat": 4,
 "nbformat_minor": 2
}
