{
 "cells": [
  {
   "cell_type": "code",
   "execution_count": 9,
   "metadata": {},
   "outputs": [
    {
     "name": "stdout",
     "output_type": "stream",
     "text": [
      "name= neru number of photos: 115\n",
      "name= yui number of photos: 114\n",
      "name= akane number of photos: 107\n",
      "name= rika number of photos: 100\n",
      "name= risa number of photos: 102\n"
     ]
    }
   ],
   "source": [
    "import os\n",
    "base_path = os.getcwd()+'/training_set/'\n",
    "names = os.listdir(base_path)\n",
    "\n",
    "for name in names:\n",
    "    path = base_path + '/' + name + '/'\n",
    "    files = os.listdir(path)\n",
    "    print('name= {} number of photos: {}'.format(name, len(files)))"
   ]
  }
 ],
 "metadata": {
  "kernelspec": {
   "display_name": "Python 3",
   "language": "python",
   "name": "python3"
  },
  "language_info": {
   "codemirror_mode": {
    "name": "ipython",
    "version": 3
   },
   "file_extension": ".py",
   "mimetype": "text/x-python",
   "name": "python",
   "nbconvert_exporter": "python",
   "pygments_lexer": "ipython3",
   "version": "3.6.6"
  }
 },
 "nbformat": 4,
 "nbformat_minor": 2
}
