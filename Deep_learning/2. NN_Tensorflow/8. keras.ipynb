{
 "cells": [
  {
   "cell_type": "markdown",
   "metadata": {},
   "source": [
    "# tf.keras"
   ]
  },
  {
   "cell_type": "code",
   "execution_count": 1,
   "metadata": {},
   "outputs": [
    {
     "name": "stderr",
     "output_type": "stream",
     "text": [
      "/opt/conda/lib/python3.6/site-packages/h5py/__init__.py:36: FutureWarning: Conversion of the second argument of issubdtype from `float` to `np.floating` is deprecated. In future, it will be treated as `np.float64 == np.dtype(float).type`.\n",
      "  from ._conv import register_converters as _register_converters\n"
     ]
    }
   ],
   "source": [
    "import numpy as np\n",
    "import tensorflow as tf\n",
    "import matplotlib.pyplot as plt\n",
    "from sklearn.model_selection import train_test_split"
   ]
  },
  {
   "cell_type": "code",
   "execution_count": 2,
   "metadata": {},
   "outputs": [],
   "source": [
    "batch_size = 32\n",
    "epochs = 40\n",
    "lr = 0.01\n",
    "train_ratio = 0.9"
   ]
  },
  {
   "cell_type": "code",
   "execution_count": 3,
   "metadata": {},
   "outputs": [
    {
     "name": "stdout",
     "output_type": "stream",
     "text": [
      "1797\n"
     ]
    }
   ],
   "source": [
    "from sklearn.datasets import load_digits\n",
    "\n",
    "digits = load_digits()\n",
    "x_, y_ = digits.data, digits.target\n",
    "\n",
    "# min-max normalization\n",
    "x_ = x_ / x_.max() \n",
    "\n",
    "# one hot encoding\n",
    "y_one_hot = np.zeros((len(y_), 10))  \n",
    "y_one_hot[np.arange(len(y_)), y_] = 1"
   ]
  },
  {
   "cell_type": "code",
   "execution_count": 7,
   "metadata": {},
   "outputs": [
    {
     "data": {
      "text/plain": [
       "array([[0., 0., 0., 0., 0.],\n",
       "       [0., 0., 0., 0., 0.],\n",
       "       [0., 0., 0., 0., 0.],\n",
       "       [0., 0., 0., 0., 0.],\n",
       "       [0., 0., 0., 0., 0.]])"
      ]
     },
     "execution_count": 7,
     "metadata": {},
     "output_type": "execute_result"
    }
   ],
   "source": [
    "a = np.zeros((5,5))\n",
    "a"
   ]
  },
  {
   "cell_type": "code",
   "execution_count": 10,
   "metadata": {},
   "outputs": [
    {
     "data": {
      "text/plain": [
       "array([[0., 0., 0., 0., 0.],\n",
       "       [1., 0., 0., 0., 0.],\n",
       "       [1., 1., 1., 0., 0.],\n",
       "       [0., 0., 0., 0., 0.],\n",
       "       [0., 0., 0., 0., 0.]])"
      ]
     },
     "execution_count": 10,
     "metadata": {},
     "output_type": "execute_result"
    }
   ],
   "source": [
    "a[np.arange(1,3), 0] =1\n",
    "a[2, np.arange(1,3)] =1\n",
    "a"
   ]
  },
  {
   "cell_type": "code",
   "execution_count": 11,
   "metadata": {},
   "outputs": [],
   "source": [
    "x_train, x_test, y_train, y_test = train_test_split(x_, \n",
    "                                                    y_one_hot, \n",
    "                                                    test_size=0.05, \n",
    "                                                    stratify=y_)"
   ]
  },
  {
   "cell_type": "code",
   "execution_count": 12,
   "metadata": {},
   "outputs": [],
   "source": [
    "from tensorflow.keras.layers import Dense"
   ]
  },
  {
   "cell_type": "code",
   "execution_count": 13,
   "metadata": {},
   "outputs": [
    {
     "name": "stdout",
     "output_type": "stream",
     "text": [
      "_________________________________________________________________\n",
      "Layer (type)                 Output Shape              Param #   \n",
      "=================================================================\n",
      "dense (Dense)                (None, 25)                1625      \n",
      "_________________________________________________________________\n",
      "dense_1 (Dense)              (None, 10)                260       \n",
      "=================================================================\n",
      "Total params: 1,885\n",
      "Trainable params: 1,885\n",
      "Non-trainable params: 0\n",
      "_________________________________________________________________\n",
      "None\n"
     ]
    }
   ],
   "source": [
    "model = tf.keras.Sequential()\n",
    "model.add(Dense(25, activation='relu', input_shape=(64,)))\n",
    "model.add(Dense(10, activation='softmax')) \n",
    "\n",
    "print(model.summary())"
   ]
  },
  {
   "cell_type": "code",
   "execution_count": 14,
   "metadata": {},
   "outputs": [],
   "source": [
    "model.compile(loss='categorical_crossentropy',\n",
    "              optimizer=tf.keras.optimizers.Adam(),\n",
    "              metrics=['accuracy'])"
   ]
  },
  {
   "cell_type": "code",
   "execution_count": 15,
   "metadata": {},
   "outputs": [
    {
     "name": "stdout",
     "output_type": "stream",
     "text": [
      "Train on 1536 samples, validate on 171 samples\n",
      "Epoch 1/40\n",
      "1536/1536 [==============================] - 1s 762us/step - loss: 2.1851 - acc: 0.2760 - val_loss: 2.0286 - val_acc: 0.5029\n",
      "Epoch 2/40\n",
      "1536/1536 [==============================] - 0s 57us/step - loss: 1.8691 - acc: 0.6270 - val_loss: 1.6893 - val_acc: 0.7602\n",
      "Epoch 3/40\n",
      "1536/1536 [==============================] - 0s 57us/step - loss: 1.5080 - acc: 0.7806 - val_loss: 1.3402 - val_acc: 0.8363\n",
      "Epoch 4/40\n",
      "1536/1536 [==============================] - 0s 57us/step - loss: 1.1644 - acc: 0.8652 - val_loss: 1.0294 - val_acc: 0.9006\n",
      "Epoch 5/40\n",
      "1536/1536 [==============================] - 0s 55us/step - loss: 0.8822 - acc: 0.8952 - val_loss: 0.7830 - val_acc: 0.9181\n",
      "Epoch 6/40\n",
      "1536/1536 [==============================] - 0s 55us/step - loss: 0.6808 - acc: 0.9134 - val_loss: 0.6163 - val_acc: 0.9357\n",
      "Epoch 7/40\n",
      "1536/1536 [==============================] - 0s 56us/step - loss: 0.5507 - acc: 0.9225 - val_loss: 0.5145 - val_acc: 0.9357\n",
      "Epoch 8/40\n",
      "1536/1536 [==============================] - 0s 58us/step - loss: 0.4599 - acc: 0.9329 - val_loss: 0.4518 - val_acc: 0.9006\n",
      "Epoch 9/40\n",
      "1536/1536 [==============================] - 0s 56us/step - loss: 0.4015 - acc: 0.9395 - val_loss: 0.3866 - val_acc: 0.9298\n",
      "Epoch 10/40\n",
      "1536/1536 [==============================] - 0s 57us/step - loss: 0.3521 - acc: 0.9414 - val_loss: 0.3418 - val_acc: 0.9415\n",
      "Epoch 11/40\n",
      "1536/1536 [==============================] - 0s 57us/step - loss: 0.3154 - acc: 0.9427 - val_loss: 0.3112 - val_acc: 0.9415\n",
      "Epoch 12/40\n",
      "1536/1536 [==============================] - 0s 57us/step - loss: 0.2893 - acc: 0.9421 - val_loss: 0.2911 - val_acc: 0.9474\n",
      "Epoch 13/40\n",
      "1536/1536 [==============================] - 0s 57us/step - loss: 0.2650 - acc: 0.9460 - val_loss: 0.2647 - val_acc: 0.9532\n",
      "Epoch 14/40\n",
      "1536/1536 [==============================] - 0s 56us/step - loss: 0.2445 - acc: 0.9505 - val_loss: 0.2426 - val_acc: 0.9532\n",
      "Epoch 15/40\n",
      "1536/1536 [==============================] - 0s 57us/step - loss: 0.2279 - acc: 0.9544 - val_loss: 0.2334 - val_acc: 0.9532\n",
      "Epoch 16/40\n",
      "1536/1536 [==============================] - 0s 57us/step - loss: 0.2145 - acc: 0.9544 - val_loss: 0.2206 - val_acc: 0.9532\n",
      "Epoch 17/40\n",
      "1536/1536 [==============================] - 0s 57us/step - loss: 0.2018 - acc: 0.9616 - val_loss: 0.2144 - val_acc: 0.9591\n",
      "Epoch 18/40\n",
      "1536/1536 [==============================] - 0s 57us/step - loss: 0.1906 - acc: 0.9616 - val_loss: 0.1981 - val_acc: 0.9591\n",
      "Epoch 19/40\n",
      "1536/1536 [==============================] - 0s 57us/step - loss: 0.1813 - acc: 0.9629 - val_loss: 0.1869 - val_acc: 0.9708\n",
      "Epoch 20/40\n",
      "1536/1536 [==============================] - 0s 59us/step - loss: 0.1725 - acc: 0.9648 - val_loss: 0.1813 - val_acc: 0.9591\n",
      "Epoch 21/40\n",
      "1536/1536 [==============================] - 0s 57us/step - loss: 0.1643 - acc: 0.9655 - val_loss: 0.1831 - val_acc: 0.9649\n",
      "Epoch 22/40\n",
      "1536/1536 [==============================] - 0s 57us/step - loss: 0.1577 - acc: 0.9681 - val_loss: 0.1738 - val_acc: 0.9649\n",
      "Epoch 23/40\n",
      "1536/1536 [==============================] - 0s 57us/step - loss: 0.1510 - acc: 0.9714 - val_loss: 0.1645 - val_acc: 0.9649\n",
      "Epoch 24/40\n",
      "1536/1536 [==============================] - 0s 58us/step - loss: 0.1446 - acc: 0.9733 - val_loss: 0.1566 - val_acc: 0.9766\n",
      "Epoch 25/40\n",
      "1536/1536 [==============================] - 0s 57us/step - loss: 0.1402 - acc: 0.9720 - val_loss: 0.1591 - val_acc: 0.9649\n",
      "Epoch 26/40\n",
      "1536/1536 [==============================] - 0s 58us/step - loss: 0.1362 - acc: 0.9714 - val_loss: 0.1535 - val_acc: 0.9649\n",
      "Epoch 27/40\n",
      "1536/1536 [==============================] - 0s 58us/step - loss: 0.1299 - acc: 0.9759 - val_loss: 0.1458 - val_acc: 0.9649\n",
      "Epoch 28/40\n",
      "1536/1536 [==============================] - 0s 57us/step - loss: 0.1260 - acc: 0.9740 - val_loss: 0.1482 - val_acc: 0.9649\n",
      "Epoch 29/40\n",
      "1536/1536 [==============================] - 0s 60us/step - loss: 0.1214 - acc: 0.9772 - val_loss: 0.1429 - val_acc: 0.9649\n",
      "Epoch 30/40\n",
      "1536/1536 [==============================] - 0s 57us/step - loss: 0.1181 - acc: 0.9785 - val_loss: 0.1399 - val_acc: 0.9766\n",
      "Epoch 31/40\n",
      "1536/1536 [==============================] - 0s 57us/step - loss: 0.1138 - acc: 0.9792 - val_loss: 0.1441 - val_acc: 0.9591\n",
      "Epoch 32/40\n",
      "1536/1536 [==============================] - 0s 58us/step - loss: 0.1104 - acc: 0.9798 - val_loss: 0.1329 - val_acc: 0.9766\n",
      "Epoch 33/40\n",
      "1536/1536 [==============================] - 0s 58us/step - loss: 0.1067 - acc: 0.9798 - val_loss: 0.1269 - val_acc: 0.9825\n",
      "Epoch 34/40\n",
      "1536/1536 [==============================] - 0s 57us/step - loss: 0.1052 - acc: 0.9811 - val_loss: 0.1293 - val_acc: 0.9766\n",
      "Epoch 35/40\n",
      "1536/1536 [==============================] - 0s 58us/step - loss: 0.1013 - acc: 0.9824 - val_loss: 0.1307 - val_acc: 0.9825\n",
      "Epoch 36/40\n",
      "1536/1536 [==============================] - 0s 56us/step - loss: 0.0983 - acc: 0.9811 - val_loss: 0.1217 - val_acc: 0.9766\n",
      "Epoch 37/40\n",
      "1536/1536 [==============================] - 0s 58us/step - loss: 0.0956 - acc: 0.9831 - val_loss: 0.1238 - val_acc: 0.9766\n",
      "Epoch 38/40\n",
      "1536/1536 [==============================] - 0s 57us/step - loss: 0.0925 - acc: 0.9831 - val_loss: 0.1306 - val_acc: 0.9708\n",
      "Epoch 39/40\n",
      "1536/1536 [==============================] - 0s 58us/step - loss: 0.0905 - acc: 0.9844 - val_loss: 0.1227 - val_acc: 0.9766\n",
      "Epoch 40/40\n",
      "1536/1536 [==============================] - 0s 56us/step - loss: 0.0883 - acc: 0.9837 - val_loss: 0.1220 - val_acc: 0.9766\n"
     ]
    }
   ],
   "source": [
    "model_history = model.fit(x=x_train, y=y_train,\n",
    "                          batch_size=batch_size,\n",
    "                          epochs=epochs,\n",
    "                          validation_split=1 - train_ratio)"
   ]
  },
  {
   "cell_type": "code",
   "execution_count": 16,
   "metadata": {},
   "outputs": [],
   "source": [
    "train_loss = model_history.history['loss']\n",
    "train_acc = model_history.history['acc']\n",
    "valid_loss = model_history.history['val_loss']\n",
    "valid_acc = model_history.history['val_acc']"
   ]
  },
  {
   "cell_type": "code",
   "execution_count": 17,
   "metadata": {},
   "outputs": [
    {
     "data": {
      "image/png": "[encoded data removed]",
      "text/plain": [
       "<Figure size 432x288 with 1 Axes>"
      ]
     },
     "metadata": {
      "needs_background": "light"
     },
     "output_type": "display_data"
    },
    {
     "data": {
      "image/png": "[encoded data removed]",
      "text/plain": [
       "<Figure size 432x288 with 1 Axes>"
      ]
     },
     "metadata": {
      "needs_background": "light"
     },
     "output_type": "display_data"
    }
   ],
   "source": [
    "plt.plot(train_loss, 'b', label='train')\n",
    "plt.plot(valid_loss, 'r', label='valid')\n",
    "plt.legend()\n",
    "plt.title(\"Loss\")\n",
    "plt.show()\n",
    "\n",
    "plt.plot(train_acc, 'b', label='train')\n",
    "plt.plot(valid_acc, 'r', label='valid')\n",
    "plt.legend(loc=4)\n",
    "plt.title(\"Accuracy\")\n",
    "plt.show()"
   ]
  },
  {
   "cell_type": "code",
   "execution_count": 18,
   "metadata": {},
   "outputs": [],
   "source": [
    "from sklearn.metrics import accuracy_score"
   ]
  },
  {
   "cell_type": "code",
   "execution_count": 23,
   "metadata": {},
   "outputs": [
    {
     "name": "stdout",
     "output_type": "stream",
     "text": [
      "[0. 0. 0. 0. 0. 1. 0. 0. 0. 0.]\n"
     ]
    }
   ],
   "source": [
    "y_predict = model.predict_classes(x_test)\n",
    "print(y_test[0])\n",
    "y_test_label = np.argmax(y_test, axis=1)"
   ]
  },
  {
   "cell_type": "code",
   "execution_count": 20,
   "metadata": {},
   "outputs": [
    {
     "name": "stdout",
     "output_type": "stream",
     "text": [
      "Accuracy in testing data: 0.9888888888888889\n"
     ]
    }
   ],
   "source": [
    "print('Accuracy in testing data:', accuracy_score(y_test_label, y_predict))"
   ]
  },
  {
   "cell_type": "code",
   "execution_count": null,
   "metadata": {},
   "outputs": [],
   "source": [
    "tf.global_variables()"
   ]
  },
  {
   "cell_type": "code",
   "execution_count": null,
   "metadata": {},
   "outputs": [],
   "source": [
    "# save model\n",
    "model.save('my_model.h5')\n",
    "\n",
    "# load model\n",
    "another_model = tf.keras.models.load_model('my_model.h5')"
   ]
  },
  {
   "cell_type": "code",
   "execution_count": null,
   "metadata": {},
   "outputs": [],
   "source": [
    "y_predict = another_model.predict_classes(x_test)\n",
    "y_test_label = np.argmax(y_test, axis=1)\n",
    "print('Accuracy in testing data:', accuracy_score(y_test_label, y_predict))"
   ]
  },
  {
   "cell_type": "markdown",
   "metadata": {},
   "source": [
    "# Practice\n",
    "Build a cat-dog-classifier with tf.keras"
   ]
  },
  {
   "cell_type": "code",
   "execution_count": null,
   "metadata": {},
   "outputs": [],
   "source": []
  }
 ],
 "metadata": {
  "kernelspec": {
   "display_name": "Python 3",
   "language": "python",
   "name": "python3"
  },
  "language_info": {
   "codemirror_mode": {
    "name": "ipython",
    "version": 3
   },
   "file_extension": ".py",
   "mimetype": "text/x-python",
   "name": "python",
   "nbconvert_exporter": "python",
   "pygments_lexer": "ipython3",
   "version": "3.6.6"
  }
 },
 "nbformat": 4,
 "nbformat_minor": 2
}
