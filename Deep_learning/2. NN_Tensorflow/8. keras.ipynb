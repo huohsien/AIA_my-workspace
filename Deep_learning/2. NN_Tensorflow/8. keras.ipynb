{
 "cells": [
  {
   "cell_type": "markdown",
   "metadata": {},
   "source": [
    "# tf.keras"
   ]
  },
  {
   "cell_type": "code",
   "execution_count": 1,
   "metadata": {},
   "outputs": [
    {
     "name": "stderr",
     "output_type": "stream",
     "text": [
      "/opt/conda/lib/python3.6/site-packages/h5py/__init__.py:36: FutureWarning: Conversion of the second argument of issubdtype from `float` to `np.floating` is deprecated. In future, it will be treated as `np.float64 == np.dtype(float).type`.\n",
      "  from ._conv import register_converters as _register_converters\n"
     ]
    }
   ],
   "source": [
    "import numpy as np\n",
    "import tensorflow as tf\n",
    "import matplotlib.pyplot as plt\n",
    "from sklearn.model_selection import train_test_split"
   ]
  },
  {
   "cell_type": "code",
   "execution_count": 2,
   "metadata": {},
   "outputs": [],
   "source": [
    "batch_size = 32\n",
    "epochs = 40\n",
    "lr = 0.01\n",
    "train_ratio = 0.9"
   ]
  },
  {
   "cell_type": "code",
   "execution_count": 3,
   "metadata": {},
   "outputs": [],
   "source": [
    "from sklearn.datasets import load_digits\n",
    "\n",
    "digits = load_digits()\n",
    "x_, y_ = digits.data, digits.target\n",
    "\n",
    "# min-max normalization\n",
    "x_ = x_ / x_.max() \n",
    "\n",
    "# one hot encoding\n",
    "y_one_hot = np.zeros((len(y_), 10))  \n",
    "y_one_hot[np.arange(len(y_)), y_] = 1"
   ]
  },
  {
   "cell_type": "code",
   "execution_count": 4,
   "metadata": {},
   "outputs": [
    {
     "data": {
      "text/plain": [
       "array([[0., 0., 0., 0., 0.],\n",
       "       [0., 0., 0., 0., 0.],\n",
       "       [0., 0., 0., 0., 0.],\n",
       "       [0., 0., 0., 0., 0.],\n",
       "       [0., 0., 0., 0., 0.]])"
      ]
     },
     "execution_count": 4,
     "metadata": {},
     "output_type": "execute_result"
    }
   ],
   "source": [
    "a = np.zeros((5,5))\n",
    "a"
   ]
  },
  {
   "cell_type": "code",
   "execution_count": 5,
   "metadata": {},
   "outputs": [
    {
     "data": {
      "text/plain": [
       "array([[0., 0., 0., 0., 0.],\n",
       "       [1., 0., 0., 0., 0.],\n",
       "       [1., 1., 1., 0., 0.],\n",
       "       [0., 0., 0., 0., 0.],\n",
       "       [0., 0., 0., 0., 0.]])"
      ]
     },
     "execution_count": 5,
     "metadata": {},
     "output_type": "execute_result"
    }
   ],
   "source": [
    "a[np.arange(1,3), 0] =1\n",
    "a[2, np.arange(1,3)] =1\n",
    "a"
   ]
  },
  {
   "cell_type": "code",
   "execution_count": 6,
   "metadata": {},
   "outputs": [],
   "source": [
    "x_train, x_test, y_train, y_test = train_test_split(x_, \n",
    "                                                    y_one_hot, \n",
    "                                                    test_size=0.05, \n",
    "                                                    stratify=y_)"
   ]
  },
  {
   "cell_type": "code",
   "execution_count": 7,
   "metadata": {},
   "outputs": [],
   "source": [
    "from tensorflow.keras.layers import Dense"
   ]
  },
  {
   "cell_type": "code",
   "execution_count": 8,
   "metadata": {},
   "outputs": [
    {
     "name": "stdout",
     "output_type": "stream",
     "text": [
      "_________________________________________________________________\n",
      "Layer (type)                 Output Shape              Param #   \n",
      "=================================================================\n",
      "dense (Dense)                (None, 25)                1625      \n",
      "_________________________________________________________________\n",
      "dense_1 (Dense)              (None, 10)                260       \n",
      "=================================================================\n",
      "Total params: 1,885\n",
      "Trainable params: 1,885\n",
      "Non-trainable params: 0\n",
      "_________________________________________________________________\n",
      "None\n"
     ]
    }
   ],
   "source": [
    "model = tf.keras.Sequential()\n",
    "model.add(Dense(25, activation='relu', input_shape=(64,)))\n",
    "model.add(Dense(10, activation='softmax')) \n",
    "\n",
    "print(model.summary())"
   ]
  },
  {
   "cell_type": "code",
   "execution_count": 9,
   "metadata": {},
   "outputs": [],
   "source": [
    "model.compile(loss='categorical_crossentropy',\n",
    "              optimizer=tf.keras.optimizers.Adam(),\n",
    "              metrics=['accuracy'])"
   ]
  },
  {
   "cell_type": "code",
   "execution_count": 10,
   "metadata": {},
   "outputs": [
    {
     "name": "stdout",
     "output_type": "stream",
     "text": [
      "Train on 1536 samples, validate on 171 samples\n",
      "Epoch 1/40\n",
      "1536/1536 [==============================] - 1s 818us/step - loss: 2.2739 - acc: 0.1556 - val_loss: 2.0840 - val_acc: 0.2281\n",
      "Epoch 2/40\n",
      "1536/1536 [==============================] - 0s 75us/step - loss: 1.9824 - acc: 0.3600 - val_loss: 1.8360 - val_acc: 0.4854\n",
      "Epoch 3/40\n",
      "1536/1536 [==============================] - 0s 66us/step - loss: 1.6967 - acc: 0.5938 - val_loss: 1.5291 - val_acc: 0.6550\n",
      "Epoch 4/40\n",
      "1536/1536 [==============================] - 0s 68us/step - loss: 1.3950 - acc: 0.7246 - val_loss: 1.2388 - val_acc: 0.7602\n",
      "Epoch 5/40\n",
      "1536/1536 [==============================] - 0s 70us/step - loss: 1.1336 - acc: 0.7891 - val_loss: 1.0306 - val_acc: 0.8187\n",
      "Epoch 6/40\n",
      "1536/1536 [==============================] - 0s 68us/step - loss: 0.9262 - acc: 0.8366 - val_loss: 0.8661 - val_acc: 0.8480\n",
      "Epoch 7/40\n",
      "1536/1536 [==============================] - 0s 67us/step - loss: 0.7674 - acc: 0.8698 - val_loss: 0.7323 - val_acc: 0.8596\n",
      "Epoch 8/40\n",
      "1536/1536 [==============================] - 0s 66us/step - loss: 0.6375 - acc: 0.8958 - val_loss: 0.6129 - val_acc: 0.8947\n",
      "Epoch 9/40\n",
      "1536/1536 [==============================] - 0s 67us/step - loss: 0.5388 - acc: 0.9128 - val_loss: 0.5428 - val_acc: 0.8655\n",
      "Epoch 10/40\n",
      "1536/1536 [==============================] - 0s 67us/step - loss: 0.4614 - acc: 0.9225 - val_loss: 0.4749 - val_acc: 0.9123\n",
      "Epoch 11/40\n",
      "1536/1536 [==============================] - 0s 67us/step - loss: 0.4039 - acc: 0.9284 - val_loss: 0.4309 - val_acc: 0.9181\n",
      "Epoch 12/40\n",
      "1536/1536 [==============================] - 0s 69us/step - loss: 0.3577 - acc: 0.9336 - val_loss: 0.3876 - val_acc: 0.9181\n",
      "Epoch 13/40\n",
      "1536/1536 [==============================] - 0s 65us/step - loss: 0.3185 - acc: 0.9421 - val_loss: 0.3563 - val_acc: 0.9240\n",
      "Epoch 14/40\n",
      "1536/1536 [==============================] - 0s 78us/step - loss: 0.2885 - acc: 0.9414 - val_loss: 0.3222 - val_acc: 0.9240\n",
      "Epoch 15/40\n",
      "1536/1536 [==============================] - 0s 81us/step - loss: 0.2634 - acc: 0.9460 - val_loss: 0.3030 - val_acc: 0.9181\n",
      "Epoch 16/40\n",
      "1536/1536 [==============================] - 0s 70us/step - loss: 0.2434 - acc: 0.9505 - val_loss: 0.2915 - val_acc: 0.9181\n",
      "Epoch 17/40\n",
      "1536/1536 [==============================] - 0s 70us/step - loss: 0.2254 - acc: 0.9551 - val_loss: 0.2583 - val_acc: 0.9298\n",
      "Epoch 18/40\n",
      "1536/1536 [==============================] - 0s 70us/step - loss: 0.2121 - acc: 0.9544 - val_loss: 0.2466 - val_acc: 0.9298\n",
      "Epoch 19/40\n",
      "1536/1536 [==============================] - 0s 66us/step - loss: 0.1986 - acc: 0.9596 - val_loss: 0.2329 - val_acc: 0.9357\n",
      "Epoch 20/40\n",
      "1536/1536 [==============================] - 0s 70us/step - loss: 0.1877 - acc: 0.9635 - val_loss: 0.2302 - val_acc: 0.9240\n",
      "Epoch 21/40\n",
      "1536/1536 [==============================] - 0s 68us/step - loss: 0.1776 - acc: 0.9642 - val_loss: 0.2170 - val_acc: 0.9357\n",
      "Epoch 22/40\n",
      "1536/1536 [==============================] - 0s 66us/step - loss: 0.1691 - acc: 0.9622 - val_loss: 0.2072 - val_acc: 0.9357\n",
      "Epoch 23/40\n",
      "1536/1536 [==============================] - 0s 68us/step - loss: 0.1617 - acc: 0.9655 - val_loss: 0.2059 - val_acc: 0.9532\n",
      "Epoch 24/40\n",
      "1536/1536 [==============================] - 0s 67us/step - loss: 0.1538 - acc: 0.9655 - val_loss: 0.1972 - val_acc: 0.9474\n",
      "Epoch 25/40\n",
      "1536/1536 [==============================] - 0s 68us/step - loss: 0.1476 - acc: 0.9674 - val_loss: 0.1954 - val_acc: 0.9474\n",
      "Epoch 26/40\n",
      "1536/1536 [==============================] - 0s 66us/step - loss: 0.1416 - acc: 0.9701 - val_loss: 0.1831 - val_acc: 0.9474\n",
      "Epoch 27/40\n",
      "1536/1536 [==============================] - 0s 69us/step - loss: 0.1358 - acc: 0.9714 - val_loss: 0.1850 - val_acc: 0.9649\n",
      "Epoch 28/40\n",
      "1536/1536 [==============================] - 0s 69us/step - loss: 0.1313 - acc: 0.9727 - val_loss: 0.1790 - val_acc: 0.9532\n",
      "Epoch 29/40\n",
      "1536/1536 [==============================] - 0s 69us/step - loss: 0.1264 - acc: 0.9740 - val_loss: 0.1715 - val_acc: 0.9591\n",
      "Epoch 30/40\n",
      "1536/1536 [==============================] - 0s 68us/step - loss: 0.1224 - acc: 0.9759 - val_loss: 0.1690 - val_acc: 0.9591\n",
      "Epoch 31/40\n",
      "1536/1536 [==============================] - 0s 67us/step - loss: 0.1187 - acc: 0.9766 - val_loss: 0.1669 - val_acc: 0.9532\n",
      "Epoch 32/40\n",
      "1536/1536 [==============================] - 0s 67us/step - loss: 0.1148 - acc: 0.9772 - val_loss: 0.1609 - val_acc: 0.9591\n",
      "Epoch 33/40\n",
      "1536/1536 [==============================] - 0s 67us/step - loss: 0.1123 - acc: 0.9772 - val_loss: 0.1591 - val_acc: 0.9532\n",
      "Epoch 34/40\n",
      "1536/1536 [==============================] - 0s 66us/step - loss: 0.1075 - acc: 0.9798 - val_loss: 0.1646 - val_acc: 0.9532\n",
      "Epoch 35/40\n",
      "1536/1536 [==============================] - 0s 67us/step - loss: 0.1063 - acc: 0.9798 - val_loss: 0.1552 - val_acc: 0.9591\n",
      "Epoch 36/40\n",
      "1536/1536 [==============================] - 0s 68us/step - loss: 0.1017 - acc: 0.9811 - val_loss: 0.1534 - val_acc: 0.9532\n",
      "Epoch 37/40\n",
      "1536/1536 [==============================] - 0s 67us/step - loss: 0.0988 - acc: 0.9805 - val_loss: 0.1503 - val_acc: 0.9532\n",
      "Epoch 38/40\n",
      "1536/1536 [==============================] - 0s 67us/step - loss: 0.0957 - acc: 0.9824 - val_loss: 0.1462 - val_acc: 0.9532\n",
      "Epoch 39/40\n",
      "1536/1536 [==============================] - 0s 68us/step - loss: 0.0933 - acc: 0.9837 - val_loss: 0.1505 - val_acc: 0.9532\n",
      "Epoch 40/40\n",
      "1536/1536 [==============================] - 0s 67us/step - loss: 0.0904 - acc: 0.9831 - val_loss: 0.1433 - val_acc: 0.9591\n"
     ]
    }
   ],
   "source": [
    "model_history = model.fit(x=x_train, y=y_train,\n",
    "                          batch_size=batch_size,\n",
    "                          epochs=epochs,\n",
    "                          validation_split=1 - train_ratio)"
   ]
  },
  {
   "cell_type": "code",
   "execution_count": 11,
   "metadata": {},
   "outputs": [],
   "source": [
    "train_loss = model_history.history['loss']\n",
    "train_acc = model_history.history['acc']\n",
    "valid_loss = model_history.history['val_loss']\n",
    "valid_acc = model_history.history['val_acc']"
   ]
  },
  {
   "cell_type": "code",
   "execution_count": 12,
   "metadata": {},
   "outputs": [
    {
     "data": {
      "image/png": "[encoded data removed]",
      "text/plain": [
       "<Figure size 432x288 with 1 Axes>"
      ]
     },
     "metadata": {
      "needs_background": "light"
     },
     "output_type": "display_data"
    },
    {
     "data": {
      "image/png": "[encoded data removed]",
      "text/plain": [
       "<Figure size 432x288 with 1 Axes>"
      ]
     },
     "metadata": {
      "needs_background": "light"
     },
     "output_type": "display_data"
    }
   ],
   "source": [
    "plt.plot(train_loss, 'b', label='train')\n",
    "plt.plot(valid_loss, 'r', label='valid')\n",
    "plt.legend()\n",
    "plt.title(\"Loss\")\n",
    "plt.show()\n",
    "\n",
    "plt.plot(train_acc, 'b', label='train')\n",
    "plt.plot(valid_acc, 'r', label='valid')\n",
    "plt.legend(loc=4)\n",
    "plt.title(\"Accuracy\")\n",
    "plt.show()"
   ]
  },
  {
   "cell_type": "code",
   "execution_count": 13,
   "metadata": {},
   "outputs": [],
   "source": [
    "from sklearn.metrics import accuracy_score"
   ]
  },
  {
   "cell_type": "code",
   "execution_count": 14,
   "metadata": {},
   "outputs": [
    {
     "name": "stdout",
     "output_type": "stream",
     "text": [
      "[0. 0. 1. 0. 0. 0. 0. 0. 0. 0.]\n"
     ]
    }
   ],
   "source": [
    "y_predict = model.predict_classes(x_test)\n",
    "print(y_test[0])\n",
    "y_test_label = np.argmax(y_test, axis=1)"
   ]
  },
  {
   "cell_type": "code",
   "execution_count": 15,
   "metadata": {},
   "outputs": [
    {
     "name": "stdout",
     "output_type": "stream",
     "text": [
      "Accuracy in testing data: 0.9777777777777777\n"
     ]
    }
   ],
   "source": [
    "print('Accuracy in testing data:', accuracy_score(y_test_label, y_predict))"
   ]
  },
  {
   "cell_type": "code",
   "execution_count": 16,
   "metadata": {},
   "outputs": [
    {
     "data": {
      "text/plain": [
       "[<tf.Variable 'dense/kernel:0' shape=(64, 25) dtype=float32>,\n",
       " <tf.Variable 'dense/bias:0' shape=(25,) dtype=float32>,\n",
       " <tf.Variable 'dense_1/kernel:0' shape=(25, 10) dtype=float32>,\n",
       " <tf.Variable 'dense_1/bias:0' shape=(10,) dtype=float32>,\n",
       " <tf.Variable 'Adam/iterations:0' shape=() dtype=int64>,\n",
       " <tf.Variable 'Adam/lr:0' shape=() dtype=float32>,\n",
       " <tf.Variable 'Adam/beta_1:0' shape=() dtype=float32>,\n",
       " <tf.Variable 'Adam/beta_2:0' shape=() dtype=float32>,\n",
       " <tf.Variable 'Adam/decay:0' shape=() dtype=float32>,\n",
       " <tf.Variable 'training/Adam/Variable:0' shape=(64, 25) dtype=float32>,\n",
       " <tf.Variable 'training/Adam/Variable_1:0' shape=(25,) dtype=float32>,\n",
       " <tf.Variable 'training/Adam/Variable_2:0' shape=(25, 10) dtype=float32>,\n",
       " <tf.Variable 'training/Adam/Variable_3:0' shape=(10,) dtype=float32>,\n",
       " <tf.Variable 'training/Adam/Variable_4:0' shape=(64, 25) dtype=float32>,\n",
       " <tf.Variable 'training/Adam/Variable_5:0' shape=(25,) dtype=float32>,\n",
       " <tf.Variable 'training/Adam/Variable_6:0' shape=(25, 10) dtype=float32>,\n",
       " <tf.Variable 'training/Adam/Variable_7:0' shape=(10,) dtype=float32>,\n",
       " <tf.Variable 'training/Adam/Variable_8:0' shape=(1,) dtype=float32>,\n",
       " <tf.Variable 'training/Adam/Variable_9:0' shape=(1,) dtype=float32>,\n",
       " <tf.Variable 'training/Adam/Variable_10:0' shape=(1,) dtype=float32>,\n",
       " <tf.Variable 'training/Adam/Variable_11:0' shape=(1,) dtype=float32>]"
      ]
     },
     "execution_count": 16,
     "metadata": {},
     "output_type": "execute_result"
    }
   ],
   "source": [
    "tf.global_variables()"
   ]
  },
  {
   "cell_type": "code",
   "execution_count": 17,
   "metadata": {},
   "outputs": [],
   "source": [
    "# save model\n",
    "model.save('my_model.h5')\n",
    "\n",
    "# load model\n",
    "another_model = tf.keras.models.load_model('my_model.h5')"
   ]
  },
  {
   "cell_type": "code",
   "execution_count": 18,
   "metadata": {},
   "outputs": [
    {
     "name": "stdout",
     "output_type": "stream",
     "text": [
      "Accuracy in testing data: 0.9777777777777777\n"
     ]
    }
   ],
   "source": [
    "y_predict = another_model.predict_classes(x_test)\n",
    "y_test_label = np.argmax(y_test, axis=1)\n",
    "print('Accuracy in testing data:', accuracy_score(y_test_label, y_predict))"
   ]
  },
  {
   "cell_type": "markdown",
   "metadata": {},
   "source": [
    "# Practice\n",
    "Build a cat-dog-classifier with tf.keras"
   ]
  },
  {
   "cell_type": "code",
   "execution_count": null,
   "metadata": {},
   "outputs": [],
   "source": []
  }
 ],
 "metadata": {
  "kernelspec": {
   "display_name": "Python 3",
   "language": "python",
   "name": "python3"
  },
  "language_info": {
   "codemirror_mode": {
    "name": "ipython",
    "version": 3
   },
   "file_extension": ".py",
   "mimetype": "text/x-python",
   "name": "python",
   "nbconvert_exporter": "python",
   "pygments_lexer": "ipython3",
   "version": "3.6.6"
  }
 },
 "nbformat": 4,
 "nbformat_minor": 2
}
