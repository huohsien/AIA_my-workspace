{
 "cells": [
  {
   "cell_type": "code",
   "execution_count": 2,
   "metadata": {},
   "outputs": [
    {
     "name": "stderr",
     "output_type": "stream",
     "text": [
      "/opt/conda/lib/python3.6/site-packages/h5py/__init__.py:36: FutureWarning: Conversion of the second argument of issubdtype from `float` to `np.floating` is deprecated. In future, it will be treated as `np.float64 == np.dtype(float).type`.\n",
      "  from ._conv import register_converters as _register_converters\n"
     ]
    }
   ],
   "source": [
    "import numpy as np\n",
    "import tensorflow as tf\n",
    "from pprint import pprint"
   ]
  },
  {
   "cell_type": "markdown",
   "metadata": {},
   "source": [
    "## Why naming in Tensorflow is so important"
   ]
  },
  {
   "cell_type": "code",
   "execution_count": 3,
   "metadata": {},
   "outputs": [
    {
     "name": "stdout",
     "output_type": "stream",
     "text": [
      "[<tf.Variable 'Variable:0' shape=() dtype=float32_ref>,\n",
      " <tf.Variable 'Variable_1:0' shape=(2,) dtype=float32_ref>,\n",
      " <tf.Variable 'var:0' shape=(3,) dtype=float32_ref>,\n",
      " <tf.Variable 'var_1:0' shape=(2, 1) dtype=float32_ref>]\n"
     ]
    }
   ],
   "source": [
    "a = tf.Variable(1.)\n",
    "a = tf.Variable([2., 0.])\n",
    "a = tf.Variable([1., 2., 3.], name='var')\n",
    "a = tf.Variable([[5.], [5.]], name='var')\n",
    "\n",
    "pprint(tf.global_variables())  # print out all global variables in this graph"
   ]
  },
  {
   "cell_type": "markdown",
   "metadata": {},
   "source": [
    "![title](pics/ex2-1.PNG)"
   ]
  },
  {
   "cell_type": "markdown",
   "metadata": {},
   "source": [
    "### Every tensor has its unique name!\n",
    "<br>"
   ]
  },
  {
   "cell_type": "code",
   "execution_count": 4,
   "metadata": {},
   "outputs": [
    {
     "name": "stdout",
     "output_type": "stream",
     "text": [
      "[]\n"
     ]
    }
   ],
   "source": [
    "tf.reset_default_graph()  # clean the graph\n",
    "pprint(tf.global_variables())"
   ]
  },
  {
   "cell_type": "markdown",
   "metadata": {},
   "source": [
    "## How to build a graph\n",
    "1. Work on the default graph\n",
    "2. Define your own graph"
   ]
  },
  {
   "cell_type": "code",
   "execution_count": 5,
   "metadata": {},
   "outputs": [
    {
     "name": "stdout",
     "output_type": "stream",
     "text": [
      "25.0\n"
     ]
    }
   ],
   "source": [
    "a = tf.Variable(2.0, dtype=tf.float32, name='a')\n",
    "b = tf.Variable(3.0, dtype=tf.float32, name='b')\n",
    "c = tf.Variable(5.0, dtype=tf.float32, name='c')\n",
    "init = tf.global_variables_initializer()\n",
    "\n",
    "sess = tf.Session()\n",
    "sess.run(init)\n",
    "print(sess.run((a+b) * c))\n",
    "sess.close()"
   ]
  },
  {
   "cell_type": "code",
   "execution_count": 6,
   "metadata": {},
   "outputs": [
    {
     "name": "stdout",
     "output_type": "stream",
     "text": [
      "28.0\n"
     ]
    }
   ],
   "source": [
    "my_graph = tf.Graph()  # create a graph object\n",
    "\n",
    "with my_graph.as_default():\n",
    "\n",
    "    d = tf.Variable(1.0, dtype=tf.float32, name='d')\n",
    "    e = tf.Variable(3.0, dtype=tf.float32, name='e')\n",
    "    f = tf.Variable(7.0, dtype=tf.float32, name='f')\n",
    "    init = tf.global_variables_initializer()\n",
    "\n",
    "sess = tf.Session(graph=my_graph)  # pass a specific graph\n",
    "sess.run(init)\n",
    "print(sess.run((d+e) * f))\n",
    "sess.close()"
   ]
  },
  {
   "cell_type": "code",
   "execution_count": 7,
   "metadata": {},
   "outputs": [
    {
     "name": "stdout",
     "output_type": "stream",
     "text": [
      "[<tf.Variable 'a:0' shape=() dtype=float32_ref>,\n",
      " <tf.Variable 'b:0' shape=() dtype=float32_ref>,\n",
      " <tf.Variable 'c:0' shape=() dtype=float32_ref>]\n"
     ]
    }
   ],
   "source": [
    "pprint(tf.global_variables())"
   ]
  },
  {
   "cell_type": "code",
   "execution_count": 8,
   "metadata": {},
   "outputs": [
    {
     "name": "stdout",
     "output_type": "stream",
     "text": [
      "[<tf.Variable 'd:0' shape=() dtype=float32_ref>,\n",
      " <tf.Variable 'e:0' shape=() dtype=float32_ref>,\n",
      " <tf.Variable 'f:0' shape=() dtype=float32_ref>]\n"
     ]
    }
   ],
   "source": [
    "with my_graph.as_default():\n",
    "    pprint(tf.global_variables())"
   ]
  },
  {
   "cell_type": "markdown",
   "metadata": {},
   "source": [
    "![title](pics/ex2-2.PNG)"
   ]
  },
  {
   "cell_type": "code",
   "execution_count": null,
   "metadata": {},
   "outputs": [],
   "source": []
  }
 ],
 "metadata": {
  "kernelspec": {
   "display_name": "Python 3",
   "language": "python",
   "name": "python3"
  },
  "language_info": {
   "codemirror_mode": {
    "name": "ipython",
    "version": 3
   },
   "file_extension": ".py",
   "mimetype": "text/x-python",
   "name": "python",
   "nbconvert_exporter": "python",
   "pygments_lexer": "ipython3",
   "version": "3.6.6"
  }
 },
 "nbformat": 4,
 "nbformat_minor": 2
}
