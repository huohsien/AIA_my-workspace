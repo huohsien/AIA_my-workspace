{
 "cells": [
  {
   "cell_type": "markdown",
   "metadata": {},
   "source": [
    "# A linear regression example\n",
    "$ y = wx + b$ <br>\n",
    "$w=3, \\, b=10 $\n"
   ]
  },
  {
   "cell_type": "code",
   "execution_count": 1,
   "metadata": {
    "scrolled": true
   },
   "outputs": [
    {
     "name": "stderr",
     "output_type": "stream",
     "text": [
      "/opt/conda/lib/python3.6/site-packages/h5py/__init__.py:36: FutureWarning: Conversion of the second argument of issubdtype from `float` to `np.floating` is deprecated. In future, it will be treated as `np.float64 == np.dtype(float).type`.\n",
      "  from ._conv import register_converters as _register_converters\n"
     ]
    }
   ],
   "source": [
    "import numpy as np\n",
    "import tensorflow as tf\n",
    "import matplotlib.pyplot as plt\n",
    "from pprint import pprint"
   ]
  },
  {
   "cell_type": "code",
   "execution_count": 2,
   "metadata": {},
   "outputs": [
    {
     "data": {
      "image/png": "[encoded data removed]",
      "text/plain": [
       "<Figure size 432x288 with 1 Axes>"
      ]
     },
     "metadata": {
      "needs_background": "light"
     },
     "output_type": "display_data"
    }
   ],
   "source": [
    "# --------------------------------generate data-------------------------------------\n",
    "x_in = np.linspace(0, 1, 100)\n",
    "y_true = 3*x_in + 10 + np.random.rand(len(x_in))\n",
    "\n",
    "plt.plot(x_in, y_true, 'b.')\n",
    "plt.title('$ y = 3x + 10 + \\epsilon$')\n",
    "plt.show()"
   ]
  },
  {
   "cell_type": "markdown",
   "metadata": {},
   "source": [
    "\n",
    "\n",
    "\n",
    "### $ (1)\\; \\hat y_i = wx_i + b $\n",
    "### $ (2)\\; MSE = \\frac{1}{n} \\sum_{i=1}^n (\\hat y_i - y_i)^2 $"
   ]
  },
  {
   "cell_type": "markdown",
   "metadata": {},
   "source": [
    "## Three steps for training\n",
    "1. Build the network\n",
    "2. Compute the loss\n",
    "3. Minimize the loss by using gradient descent"
   ]
  },
  {
   "cell_type": "code",
   "execution_count": 3,
   "metadata": {},
   "outputs": [],
   "source": [
    "# step 1\n",
    "inputs = tf.placeholder(dtype=tf.float32, shape=[100], name='X')\n",
    "y_label = tf.placeholder(dtype=tf.float32, shape=[100], name='label')\n",
    "\n",
    "w1 = tf.Variable([0.5], dtype=tf.float32, name='weight')\n",
    "b1 = tf.Variable([0.0], dtype=tf.float32, name='bias') \n",
    "y_pred = tf.add(tf.multiply(w1, inputs), b1, name='y_pred')  # y = w1*input + b1 --- (1)\n",
    "\n",
    "# step 2\n",
    "loss = tf.reduce_mean(tf.square(y_pred - y_label), name='mse')  # loss is a scaler. --- (2)\n",
    "\n",
    "# step 3\n",
    "optim = tf.train.GradientDescentOptimizer(learning_rate=0.1) \n",
    "train_ops = optim.minimize(loss)\n",
    "\n",
    "init = tf.global_variables_initializer()"
   ]
  },
  {
   "cell_type": "markdown",
   "metadata": {},
   "source": [
    "![title](pics/ex3-1.PNG)"
   ]
  },
  {
   "cell_type": "code",
   "execution_count": 4,
   "metadata": {},
   "outputs": [
    {
     "data": {
      "text/plain": [
       "<tf.Tensor 'y_pred:0' shape=(100,) dtype=float32>"
      ]
     },
     "execution_count": 4,
     "metadata": {},
     "output_type": "execute_result"
    }
   ],
   "source": [
    "y_pred"
   ]
  },
  {
   "cell_type": "code",
   "execution_count": 5,
   "metadata": {},
   "outputs": [
    {
     "name": "stdout",
     "output_type": "stream",
     "text": [
      "[<tf.Variable 'weight:0' shape=(1,) dtype=float32_ref>,\n",
      " <tf.Variable 'bias:0' shape=(1,) dtype=float32_ref>]\n"
     ]
    }
   ],
   "source": [
    "pprint(tf.global_variables())"
   ]
  },
  {
   "cell_type": "code",
   "execution_count": 6,
   "metadata": {},
   "outputs": [
    {
     "name": "stdout",
     "output_type": "stream",
     "text": [
      "-----start training-----\n",
      "step:   0, weight: 1.719, bias: 2.351\n",
      "step:  25, weight: 4.724, bias: 9.578\n",
      "step:  50, weight: 4.245, bias: 9.841\n",
      "step:  75, weight: 3.902, bias: 10.025\n",
      "step: 100, weight: 3.656, bias: 10.156\n",
      "step: 125, weight: 3.482, bias: 10.250\n",
      "step: 150, weight: 3.357, bias: 10.317\n",
      "step: 175, weight: 3.268, bias: 10.365\n",
      "step: 200, weight: 3.204, bias: 10.399\n",
      "step: 225, weight: 3.159, bias: 10.423\n",
      "step: 250, weight: 3.127, bias: 10.440\n",
      "step: 275, weight: 3.104, bias: 10.453\n",
      "step: 300, weight: 3.087, bias: 10.461\n",
      "step: 325, weight: 3.075, bias: 10.468\n",
      "step: 350, weight: 3.067, bias: 10.472\n",
      "step: 375, weight: 3.061, bias: 10.475\n",
      "step: 400, weight: 3.057, bias: 10.478\n",
      "step: 425, weight: 3.054, bias: 10.479\n",
      "step: 450, weight: 3.051, bias: 10.481\n",
      "step: 475, weight: 3.050, bias: 10.481\n"
     ]
    }
   ],
   "source": [
    "## train the model\n",
    "sess = tf.Session()\n",
    "print(\"-----start training-----\")\n",
    "sess.run(init)\n",
    "\n",
    "for step in np.arange(500):\n",
    "    sess.run(train_ops, feed_dict={inputs: x_in, y_label: y_true})  # update variables\n",
    "    if step%25 == 0:\n",
    "        print('step: {:3d}, weight: {:.3f}, bias: {:.3f}'.format(step, sess.run(w1)[0], sess.run(b1)[0]))\n",
    "               \n",
    "y_out = sess.run(y_pred, feed_dict={inputs: x_in})"
   ]
  },
  {
   "cell_type": "code",
   "execution_count": 7,
   "metadata": {},
   "outputs": [
    {
     "name": "stdout",
     "output_type": "stream",
     "text": [
      "[<tf.Variable 'weight:0' shape=(1,) dtype=float32_ref>,\n",
      " <tf.Variable 'bias:0' shape=(1,) dtype=float32_ref>]\n"
     ]
    }
   ],
   "source": [
    "pprint(tf.global_variables())"
   ]
  },
  {
   "cell_type": "code",
   "execution_count": 8,
   "metadata": {},
   "outputs": [
    {
     "data": {
      "image/png": "[encoded data removed]",
      "text/plain": [
       "<Figure size 432x288 with 1 Axes>"
      ]
     },
     "metadata": {
      "needs_background": "light"
     },
     "output_type": "display_data"
    }
   ],
   "source": [
    "plt.plot(x_in, y_true, 'b.', label='True')\n",
    "plt.plot(x_in, y_out, 'r.', label='Predicted')\n",
    "plt.legend()\n",
    "plt.show()\n",
    "\n",
    "sess.close()"
   ]
  },
  {
   "cell_type": "markdown",
   "metadata": {},
   "source": [
    "![title](pics/ex3-2.PNG)"
   ]
  },
  {
   "cell_type": "code",
   "execution_count": 9,
   "metadata": {
    "scrolled": true
   },
   "outputs": [],
   "source": [
    "import numpy as np\n",
    "import tensorflow as tf\n",
    "import matplotlib.pyplot as plt\n",
    "from pprint import pprint"
   ]
  },
  {
   "cell_type": "code",
   "execution_count": 10,
   "metadata": {},
   "outputs": [
    {
     "data": {
      "image/png": "[encoded data removed]",
      "text/plain": [
       "<Figure size 432x288 with 1 Axes>"
      ]
     },
     "metadata": {
      "needs_background": "light"
     },
     "output_type": "display_data"
    }
   ],
   "source": [
    "# --------------------------------generate data-------------------------------------\n",
    "x = np.linspace(0, 1, 100)\n",
    "y_true = 3*x + 10 + np.random.rand(len(x))\n",
    "\n",
    "plt.plot(x, y_true, 'b.')\n",
    "plt.title('$ y = 3x + 10 + \\epsilon$')\n",
    "plt.show()"
   ]
  },
  {
   "cell_type": "code",
   "execution_count": 11,
   "metadata": {},
   "outputs": [],
   "source": [
    "tf.reset_default_graph()\n",
    "x_in = tf.placeholder(name=\"x_in\", dtype=tf.float32, shape = [100])\n",
    "y_label = tf.placeholder(name='y_label', dtype=tf.float32, shape = [100])\n",
    "\n",
    "w = tf.Variable([0.5,0.5],name='w', dtype=tf.float32)\n",
    "\n",
    "y_preds = x_in * w[0] + w[1]\n",
    "\n",
    "loss = tf.reduce_mean(tf.square(y_preds - y_label), name = 'mse')\n",
    "\n",
    "optimizer = tf.train.GradientDescentOptimizer(learning_rate= 0.1)\n",
    "train_ops = optimizer.minimize(loss)\n",
    "\n",
    "init = tf.global_variables_initializer()"
   ]
  },
  {
   "cell_type": "code",
   "execution_count": 12,
   "metadata": {},
   "outputs": [
    {
     "name": "stdout",
     "output_type": "stream",
     "text": [
      "step:   0, weight: 1.666, bias: 2.748\n",
      "step:  25, weight: 4.538, bias: 9.659\n",
      "step:  50, weight: 4.080, bias: 9.911\n",
      "step:  75, weight: 3.751, bias: 10.087\n",
      "step: 100, weight: 3.516, bias: 10.213\n",
      "step: 125, weight: 3.349, bias: 10.302\n",
      "step: 150, weight: 3.229, bias: 10.366\n",
      "step: 175, weight: 3.144, bias: 10.412\n",
      "step: 200, weight: 3.083, bias: 10.445\n",
      "step: 225, weight: 3.040, bias: 10.468\n",
      "step: 250, weight: 3.009, bias: 10.485\n",
      "step: 275, weight: 2.987, bias: 10.496\n",
      "step: 300, weight: 2.971, bias: 10.505\n",
      "step: 325, weight: 2.960, bias: 10.511\n",
      "step: 350, weight: 2.952, bias: 10.515\n",
      "step: 375, weight: 2.946, bias: 10.518\n",
      "step: 400, weight: 2.942, bias: 10.520\n",
      "step: 425, weight: 2.939, bias: 10.522\n",
      "step: 450, weight: 2.937, bias: 10.523\n",
      "step: 475, weight: 2.936, bias: 10.524\n"
     ]
    }
   ],
   "source": [
    "with tf.Session() as sess:\n",
    "    sess.run(init)\n",
    "    \n",
    "    for step in range(500):\n",
    "        sess.run(train_ops, feed_dict={x_in:x, y_label:y_true})\n",
    "        if step % 25 == 0:\n",
    "            print('step: {:3d}, weight: {:.3f}, bias: {:.3f}'.format(step, sess.run(w[0]), sess.run(w[1])))\n",
    "    y_out = sess.run(y_preds, feed_dict={x_in: x})\n"
   ]
  },
  {
   "cell_type": "code",
   "execution_count": 13,
   "metadata": {},
   "outputs": [
    {
     "data": {
      "image/png": "[encoded data removed]",
      "text/plain": [
       "<Figure size 432x288 with 1 Axes>"
      ]
     },
     "metadata": {
      "needs_background": "light"
     },
     "output_type": "display_data"
    }
   ],
   "source": [
    "plt.plot(x, y_true, 'b.', label='True')\n",
    "plt.plot(x, y_out, 'r.', label='Predicted')\n",
    "plt.legend()\n",
    "plt.show()"
   ]
  },
  {
   "cell_type": "markdown",
   "metadata": {},
   "source": [
    "# Practice\n",
    "$ y = w_1x^2 + w_2x + b$ <br>\n",
    "$ w_1=6, \\, w_2=-4, \\, b=1 $"
   ]
  },
  {
   "cell_type": "code",
   "execution_count": null,
   "metadata": {},
   "outputs": [],
   "source": [
    "x_in = np.linspace(-1, 1, 200)\n",
    "y_true = 6*x_in**2 - 4*x_in + 1 + np.random.rand(len(x_in))*2\n",
    "\n",
    "plt.plot(x_in, y_true, 'b.')\n",
    "plt.show()"
   ]
  },
  {
   "cell_type": "code",
   "execution_count": null,
   "metadata": {},
   "outputs": [],
   "source": []
  }
 ],
 "metadata": {
  "kernelspec": {
   "display_name": "Python 3",
   "language": "python",
   "name": "python3"
  },
  "language_info": {
   "codemirror_mode": {
    "name": "ipython",
    "version": 3
   },
   "file_extension": ".py",
   "mimetype": "text/x-python",
   "name": "python",
   "nbconvert_exporter": "python",
   "pygments_lexer": "ipython3",
   "version": "3.6.6"
  }
 },
 "nbformat": 4,
 "nbformat_minor": 2
}
