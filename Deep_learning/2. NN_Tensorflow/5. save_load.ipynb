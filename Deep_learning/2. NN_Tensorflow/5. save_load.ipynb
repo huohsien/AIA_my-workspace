{
 "cells": [
  {
   "cell_type": "markdown",
   "metadata": {},
   "source": [
    "# How to save/load your model\n",
    "1. load the weights\n",
    "2. load the graph"
   ]
  },
  {
   "cell_type": "code",
   "execution_count": 1,
   "metadata": {},
   "outputs": [
    {
     "name": "stderr",
     "output_type": "stream",
     "text": [
      "/opt/conda/lib/python3.6/site-packages/h5py/__init__.py:36: FutureWarning: Conversion of the second argument of issubdtype from `float` to `np.floating` is deprecated. In future, it will be treated as `np.float64 == np.dtype(float).type`.\n",
      "  from ._conv import register_converters as _register_converters\n"
     ]
    }
   ],
   "source": [
    "import numpy as np\n",
    "import tensorflow as tf\n",
    "from pprint import pprint"
   ]
  },
  {
   "cell_type": "code",
   "execution_count": 2,
   "metadata": {},
   "outputs": [
    {
     "name": "stdout",
     "output_type": "stream",
     "text": [
      "[<tf.Variable 'hidden1/kernel:0' shape=(4, 10) dtype=float32_ref>,\n",
      " <tf.Variable 'hidden1/bias:0' shape=(10,) dtype=float32_ref>,\n",
      " <tf.Variable 'output/kernel:0' shape=(10, 1) dtype=float32_ref>,\n",
      " <tf.Variable 'output/bias:0' shape=(1,) dtype=float32_ref>]\n"
     ]
    }
   ],
   "source": [
    "tf.reset_default_graph()\n",
    "\n",
    "x = tf.placeholder(tf.float32, shape=[None, 4], name='Input')\n",
    "y = tf.placeholder(tf.float32, shape=[None, 1], name='Output')\n",
    "\n",
    "h1 = tf.layers.dense(x, units=10, activation=tf.nn.relu, name='hidden1')\n",
    "y_pred = tf.layers.dense(h1, units=1, name='output')\n",
    "\n",
    "loss = tf.reduce_mean(tf.nn.sigmoid_cross_entropy_with_logits(labels=y, logits=y_pred), name='loss')\n",
    "\n",
    "train_op = tf.train.GradientDescentOptimizer(0.1).minimize(loss)\n",
    "init = tf.global_variables_initializer()\n",
    "\n",
    "saver = tf.train.Saver()\n",
    "\n",
    "pprint(tf.global_variables())"
   ]
  },
  {
   "cell_type": "code",
   "execution_count": 3,
   "metadata": {},
   "outputs": [],
   "source": [
    "sess = tf.Session()\n",
    "sess.run(init)"
   ]
  },
  {
   "cell_type": "code",
   "execution_count": 4,
   "metadata": {},
   "outputs": [
    {
     "name": "stdout",
     "output_type": "stream",
     "text": [
      "X:\n",
      "[[1 1 1 1]\n",
      " [2 2 2 2]\n",
      " [3 3 3 3]]\n",
      "y:\n",
      "[[1]\n",
      " [1]\n",
      " [0]]\n"
     ]
    }
   ],
   "source": [
    "X_train = np.tile(np.array([1, 2, 3]).reshape(-1, 1), 4)\n",
    "y_train = np.array([1, 1, 0]).reshape(-1, 1)\n",
    "\n",
    "print('X:')\n",
    "print(X_train)\n",
    "print('y:')\n",
    "print(y_train)"
   ]
  },
  {
   "cell_type": "code",
   "execution_count": 5,
   "metadata": {},
   "outputs": [
    {
     "name": "stdout",
     "output_type": "stream",
     "text": [
      "before training:\n",
      "predict:  [[0.55424577]\n",
      " [0.6072295 ]\n",
      " [0.65780365]]\n",
      "loss:  0.72045535\n",
      "\n",
      "after training:\n",
      "predict:  [[0.99979264]\n",
      " [0.9793102 ]\n",
      " [0.01401627]]\n",
      "loss:  0.011743218\n"
     ]
    }
   ],
   "source": [
    "print('before training:')\n",
    "print('predict: ', sess.run(tf.nn.sigmoid(y_pred), feed_dict={x: X_train}))\n",
    "print('loss: ', sess.run(loss, feed_dict={x: X_train, y:y_train}))\n",
    "\n",
    "for i in range(1000):\n",
    "    sess.run(train_op, feed_dict={x: X_train, y:y_train})\n",
    "\n",
    "print('')\n",
    "print('after training:')\n",
    "print('predict: ', sess.run(tf.nn.sigmoid(y_pred), feed_dict={x: X_train}))\n",
    "print('loss: ', sess.run(loss, feed_dict={x: X_train, y:y_train}))"
   ]
  },
  {
   "cell_type": "code",
   "execution_count": 6,
   "metadata": {},
   "outputs": [],
   "source": [
    "saver.save(sess, \"./save_model/checkpoint_weight.ckpt\")  # save the model\n",
    "sess.close()"
   ]
  },
  {
   "cell_type": "markdown",
   "metadata": {},
   "source": [
    "## 1. load the weights\n",
    "#### You have to rewrite the graph."
   ]
  },
  {
   "cell_type": "code",
   "execution_count": 7,
   "metadata": {},
   "outputs": [],
   "source": [
    "tf.reset_default_graph()\n",
    "\n",
    "x = tf.placeholder(tf.float32, shape=[None, 4], name='Input')\n",
    "y = tf.placeholder(tf.float32, shape=[None, 1], name='Output')\n",
    "\n",
    "h1 = tf.layers.dense(x, units=10, activation=tf.nn.relu, name='hidden1')\n",
    "y_pred = tf.layers.dense(h1, units=1, name='output')\n",
    "\n",
    "loss = tf.reduce_mean(tf.nn.sigmoid_cross_entropy_with_logits(labels=y, logits=y_pred), name='loss')\n",
    "\n",
    "train_op = tf.train.GradientDescentOptimizer(0.1).minimize(loss)\n",
    "\n",
    "saver = tf.train.Saver()"
   ]
  },
  {
   "cell_type": "code",
   "execution_count": 8,
   "metadata": {},
   "outputs": [
    {
     "name": "stdout",
     "output_type": "stream",
     "text": [
      "INFO:tensorflow:Restoring parameters from ./save_model/checkpoint_weight.ckpt\n"
     ]
    }
   ],
   "source": [
    "sess = tf.Session()\n",
    "saver.restore(sess, \"./save_model/checkpoint_weight.ckpt\")"
   ]
  },
  {
   "cell_type": "code",
   "execution_count": 9,
   "metadata": {},
   "outputs": [
    {
     "name": "stdout",
     "output_type": "stream",
     "text": [
      "predict:  [[0.99979264]\n",
      " [0.9793102 ]\n",
      " [0.01401627]]\n",
      "loss:  0.011743218\n"
     ]
    }
   ],
   "source": [
    "X_train = np.tile(np.array([1, 2, 3]).reshape(-1, 1), 4)\n",
    "y_train = np.array([1, 1, 0]).reshape(-1, 1)\n",
    "\n",
    "print('predict: ', sess.run(tf.nn.sigmoid(y_pred), feed_dict={x: X_train}))\n",
    "print('loss: ', sess.run(loss, feed_dict={x: X_train, y:y_train}))"
   ]
  },
  {
   "cell_type": "code",
   "execution_count": 10,
   "metadata": {},
   "outputs": [],
   "source": [
    "sess.close()"
   ]
  },
  {
   "cell_type": "markdown",
   "metadata": {},
   "source": [
    "## 2. load the graph\n",
    "#### You have to keep tensors' names."
   ]
  },
  {
   "cell_type": "code",
   "execution_count": 11,
   "metadata": {},
   "outputs": [
    {
     "name": "stdout",
     "output_type": "stream",
     "text": [
      "INFO:tensorflow:Restoring parameters from ./save_model/checkpoint_weight.ckpt\n",
      "[<tf.Variable 'hidden1/kernel:0' shape=(4, 10) dtype=float32_ref>,\n",
      " <tf.Variable 'hidden1/bias:0' shape=(10,) dtype=float32_ref>,\n",
      " <tf.Variable 'output/kernel:0' shape=(10, 1) dtype=float32_ref>,\n",
      " <tf.Variable 'output/bias:0' shape=(1,) dtype=float32_ref>,\n",
      " <tf.Variable 'hidden1/kernel:0' shape=(4, 10) dtype=float32_ref>,\n",
      " <tf.Variable 'hidden1/bias:0' shape=(10,) dtype=float32_ref>,\n",
      " <tf.Variable 'output/kernel:0' shape=(10, 1) dtype=float32_ref>,\n",
      " <tf.Variable 'output/bias:0' shape=(1,) dtype=float32_ref>]\n"
     ]
    }
   ],
   "source": [
    "sess = tf.Session()\n",
    "\n",
    "loader = tf.train.import_meta_graph(\"./save_model/checkpoint_weight.ckpt\" + '.meta')\n",
    "loader.restore(sess, \"./save_model/checkpoint_weight.ckpt\")\n",
    "\n",
    "pprint(tf.global_variables())"
   ]
  },
  {
   "cell_type": "code",
   "execution_count": 12,
   "metadata": {},
   "outputs": [
    {
     "name": "stdout",
     "output_type": "stream",
     "text": [
      "predict:  [[0.99979264]\n",
      " [0.9793102 ]\n",
      " [0.01401627]]\n",
      "loss:  0.011743218\n"
     ]
    }
   ],
   "source": [
    "X_train = np.tile(np.array([1, 2, 3]).reshape(-1, 1), 4)\n",
    "y_train = np.array([1, 1, 0]).reshape(-1, 1)\n",
    "\n",
    "x = sess.graph.get_tensor_by_name('Input:0')\n",
    "y = sess.graph.get_tensor_by_name('Output:0')\n",
    "y_pred = sess.graph.get_tensor_by_name('output_1/BiasAdd:0')\n",
    "loss = sess.graph.get_tensor_by_name('loss:0')\n",
    "\n",
    "print('predict: ', sess.run(tf.nn.sigmoid(y_pred), feed_dict={x: X_train}))\n",
    "print('loss: ', sess.run(loss, feed_dict={x: X_train, y:y_train}))"
   ]
  },
  {
   "cell_type": "code",
   "execution_count": null,
   "metadata": {},
   "outputs": [],
   "source": [
    "sess.close()"
   ]
  },
  {
   "cell_type": "code",
   "execution_count": null,
   "metadata": {},
   "outputs": [],
   "source": []
  }
 ],
 "metadata": {
  "kernelspec": {
   "display_name": "Python 3",
   "language": "python",
   "name": "python3"
  },
  "language_info": {
   "codemirror_mode": {
    "name": "ipython",
    "version": 3
   },
   "file_extension": ".py",
   "mimetype": "text/x-python",
   "name": "python",
   "nbconvert_exporter": "python",
   "pygments_lexer": "ipython3",
   "version": "3.6.8"
  }
 },
 "nbformat": 4,
 "nbformat_minor": 2
}
