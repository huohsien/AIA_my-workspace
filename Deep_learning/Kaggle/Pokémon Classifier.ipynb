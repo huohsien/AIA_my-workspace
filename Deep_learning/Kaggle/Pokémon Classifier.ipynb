{
 "cells": [
  {
   "cell_type": "code",
   "execution_count": 1,
   "metadata": {},
   "outputs": [],
   "source": [
    "import pandas as pd\n",
    "import matplotlib\n",
    "import matplotlib.pyplot as plt\n",
    "import numpy as np\n",
    "import torch\n",
    "\n",
    "use_cuda = torch.cuda.is_available()"
   ]
  },
  {
   "cell_type": "code",
   "execution_count": 2,
   "metadata": {},
   "outputs": [],
   "source": [
    "number_of_class = 6\n",
    "# how many data per batch to load\n",
    "batch_size = 10000\n",
    "# data split ratio\n",
    "train_ratio = 0.99\n",
    "test_ratio = 0.08\n",
    "\n",
    "n_epochs = 1000\n",
    "\n",
    "lr=0.04"
   ]
  },
  {
   "cell_type": "code",
   "execution_count": 3,
   "metadata": {},
   "outputs": [],
   "source": [
    "train = pd.read_csv('train.csv')\n",
    "test = pd.read_csv('test.csv')"
   ]
  },
  {
   "cell_type": "code",
   "execution_count": 4,
   "metadata": {},
   "outputs": [
    {
     "name": "stdout",
     "output_type": "stream",
     "text": [
      "Before:\n",
      "Counter({'class_0': 1611, 'class_2': 1478, 'class_5': 1411, 'class_1': 920, 'class_3': 889, 'class_4': 851})\n",
      "After:\n",
      "Counter({'class_0': 1611, 'class_1': 1611, 'class_2': 1611, 'class_3': 1611, 'class_4': 1611, 'class_5': 1611})\n"
     ]
    }
   ],
   "source": [
    "# make number of data for each class equal\n",
    "#\n",
    "from collections import Counter\n",
    "\n",
    "class_counter = Counter()\n",
    "\n",
    "class_names =['class_' + str(i) for i in range(number_of_class)]\n",
    "for class_name in class_names:\n",
    "    class_counter[class_name] = 0\n",
    "for i in train['class']:\n",
    "    class_counter['class_' + str(i)] += 1\n",
    "\n",
    "print('Before:')\n",
    "print(class_counter)\n",
    "\n",
    "max_count = -np.Inf\n",
    "for i in range(number_of_class):\n",
    "    if class_counter['class_' + str(i)] > max_count:\n",
    "        max_count = class_counter['class_' + str(i)]\n",
    "\n",
    "train_classified = [train[train['class'] == i] for i in range(number_of_class)]\n",
    "\n",
    "for i in range(number_of_class):\n",
    "    num_need_resample = max_count - class_counter['class_' + str(i)]\n",
    "    num_resample_batch = num_need_resample // class_counter['class_' + str(i)]\n",
    "    num_resample_leftover = num_need_resample % class_counter['class_' + str(i)]\n",
    "    for j in range(num_resample_batch):\n",
    "        add_df = train_classified[i]\n",
    "        train =  pd.concat([train, add_df[0:dist_class[i][1]]], ignore_index=True)\n",
    "        train =  train.append(df_to_be_added)\n",
    "        \n",
    "    df_to_be_added = train_classified[i][:num_resample_leftover]\n",
    "    train =  train.append(df_to_be_added)\n",
    "\n",
    "for i in range(number_of_class):\n",
    "    class_counter['class_' + str(i)] = 0\n",
    "for i in train['class']:\n",
    "    class_counter['class_' + str(i)] += 1\n",
    "\n",
    "print('After:')\n",
    "print(class_counter)"
   ]
  },
  {
   "cell_type": "code",
   "execution_count": 5,
   "metadata": {},
   "outputs": [],
   "source": [
    "all_data = pd.concat((train.loc[:,'appearedTimeOfDay':'cooc_151'],\n",
    "                      test.loc[:,'appearedTimeOfDay':'cooc_151']))\n",
    "id = test['id']"
   ]
  },
  {
   "cell_type": "code",
   "execution_count": 6,
   "metadata": {},
   "outputs": [],
   "source": [
    "# all_data.head()"
   ]
  },
  {
   "cell_type": "code",
   "execution_count": 7,
   "metadata": {},
   "outputs": [],
   "source": [
    "all_data = all_data.applymap(lambda x: 1.0 if x == True else x)\n",
    "all_data = all_data.applymap(lambda x: 0.0 if x == False else x)\n",
    "all_data = pd.get_dummies(all_data)\n",
    "# numeric_feats = df.dtypes[df.dtypes != \"object\"].index\n",
    "# df = df[numeric_feats]\n",
    "apearedHour = all_data['appearedHour']\n",
    "appearedMinute = all_data['appearedMinute']\n",
    "appearedTimeDayCycle = apearedHour * 60 + appearedMinute\n",
    "appearedTimeDayCycle = np.sin(appearedTimeDayCycle / (24 * 60) * 2 * np.pi)\n",
    "# print('appearedTimeDayCycle= ',appearedTimeDayCycle)\n",
    "all_data = all_data.drop(['appearedHour'], axis=1)\n",
    "all_data = all_data.drop(['appearedMinute'], axis=1)\n",
    "all_data['appearedTimeDayCycle'] = appearedTimeDayCycle\n",
    "\n",
    "# df = df.drop(['temperature'], axis=1)\n",
    "# df = df.drop(['windSpeed'], axis=1)\n",
    "# df = df.drop(['pressure'], axis=1)\n",
    "# df = df.drop(['gymIn100m'], axis=1)\n",
    "# df = df.drop(['gymIn250m'], axis=1)\n",
    "# df = df.drop(['gymIn500m'], axis=1)\n",
    "# df = df.drop(['gymIn1000m'], axis=1)\n",
    "# df = df.drop(['gymIn2500m'], axis=1)\n",
    "# df = df.drop(['gymIn5000m'], axis=1)\n",
    "# df = df.drop(['rural'], axis=1)\n",
    "# df = df.drop(['midurban'], axis=1)\n",
    "# df = df.drop(['suburban'], axis=1)\n",
    "# df = df.drop(['urban'], axis=1)\n",
    "# df = df.drop(['pokestopIn100m'], axis=1)\n",
    "# df = df.drop(['pokestopIn250m'], axis=1)\n",
    "# df = df.drop(['pokestopIn500m'], axis=1)\n",
    "# df = df.drop(['pokestopIn1000m'], axis=1)\n",
    "# df = df.drop(['pokestopIn2500m'], axis=1)\n",
    "# df = df.drop(['pokestopIn5000m'], axis=1)\n",
    "# df = df.drop(['terrainType'], axis=1)\n",
    "# df = df.drop(['closeToWater'], axis=1)\n"
   ]
  },
  {
   "cell_type": "code",
   "execution_count": 8,
   "metadata": {},
   "outputs": [],
   "source": [
    "# all_data.head()"
   ]
  },
  {
   "cell_type": "code",
   "execution_count": 9,
   "metadata": {},
   "outputs": [],
   "source": [
    "# list(all_data.columns.values)"
   ]
  },
  {
   "cell_type": "code",
   "execution_count": 10,
   "metadata": {},
   "outputs": [],
   "source": [
    "#let's look at the data :\n",
    "# matplotlib.rcParams['figure.figsize'] = (6.0, 6.0)\n",
    "\n",
    "# data = pd.DataFrame({\"x\":df['population_density'], \"y\":targets})\n",
    "\n",
    "# data.plot(x = \"x\", y = \"y\",kind = \"scatter\")"
   ]
  },
  {
   "cell_type": "code",
   "execution_count": 11,
   "metadata": {},
   "outputs": [],
   "source": [
    "#normailize to 0-1\n",
    "for k in all_data.columns.values:\n",
    "    if (all_data[k].max() - all_data[k].min()) > 0:\n",
    "        all_data[k] = (all_data[k] - all_data[k].min())/(all_data[k].max() - all_data[k].min())\n",
    "    else:\n",
    "        all_data[k] = 0"
   ]
  },
  {
   "cell_type": "code",
   "execution_count": 12,
   "metadata": {},
   "outputs": [],
   "source": [
    "# all_data.head()"
   ]
  },
  {
   "cell_type": "code",
   "execution_count": 13,
   "metadata": {},
   "outputs": [
    {
     "name": "stdout",
     "output_type": "stream",
     "text": [
      "<class 'pandas.core.frame.DataFrame'>\n",
      "Int64Index: 9666 entries, 0 to 1088\n",
      "Columns: 297 entries, terrainType to appearedTimeDayCycle\n",
      "dtypes: float64(272), int64(25)\n",
      "memory usage: 22.0 MB\n"
     ]
    },
    {
     "data": {
      "text/plain": [
       "(9666, 297)"
      ]
     },
     "execution_count": 13,
     "metadata": {},
     "output_type": "execute_result"
    }
   ],
   "source": [
    "features = all_data[:train.shape[0]]\n",
    "features_test = all_data[train.shape[0]:]\n",
    "targets = train['class']\n",
    "\n",
    "# features.info()\n",
    "features.shape"
   ]
  },
  {
   "cell_type": "code",
   "execution_count": 14,
   "metadata": {},
   "outputs": [],
   "source": [
    "# a = plt.hist(targets)"
   ]
  },
  {
   "cell_type": "code",
   "execution_count": 15,
   "metadata": {},
   "outputs": [
    {
     "data": {
      "text/plain": [
       "((9569, 297), (87, 297), (10, 297))"
      ]
     },
     "execution_count": 15,
     "metadata": {},
     "output_type": "execute_result"
    }
   ],
   "source": [
    "from sklearn.model_selection import train_test_split\n",
    "# split the data into training and validation sets\n",
    "\n",
    "X_train, X_valid, y_train, y_valid = train_test_split(features.values, targets.values, test_size = 1 - train_ratio, stratify=targets.values, random_state=0)\n",
    "X_valid, X_test, y_valid, y_test = train_test_split(X_valid, y_valid, test_size = test_ratio, stratify=y_valid, random_state=0)\n",
    "X_train.shape,X_valid.shape,X_test.shape"
   ]
  },
  {
   "cell_type": "code",
   "execution_count": 16,
   "metadata": {},
   "outputs": [],
   "source": [
    "# plt.hist(y_test)\n",
    "# plt.hist(y_valid)\n",
    "# a =plt.hist(y_train)"
   ]
  },
  {
   "cell_type": "code",
   "execution_count": 17,
   "metadata": {},
   "outputs": [],
   "source": [
    "import torch.utils.data as data_utils\n",
    "\n",
    "data_train = data_utils.TensorDataset(torch.from_numpy(X_train).type((torch.FloatTensor)), torch.from_numpy(y_train).type((torch.LongTensor)))\n",
    "data_valid = data_utils.TensorDataset(torch.from_numpy(X_valid).type((torch.FloatTensor)), torch.from_numpy(y_valid).type((torch.LongTensor)))\n",
    "data_test = data_utils.TensorDataset(torch.from_numpy(X_test).type((torch.FloatTensor)), torch.from_numpy(y_test).type((torch.LongTensor)))"
   ]
  },
  {
   "cell_type": "code",
   "execution_count": 18,
   "metadata": {},
   "outputs": [],
   "source": [
    "\n",
    "\n",
    "# convert data to torch.FloatTensor\n",
    "\n",
    "loaders = {}\n",
    "loaders['train'] = torch.utils.data.DataLoader(data_train,\n",
    "                                          batch_size=batch_size,\n",
    "                                          shuffle=True,\n",
    "                                          num_workers=1)\n",
    "\n",
    "loaders['valid'] = torch.utils.data.DataLoader(data_valid,\n",
    "                                          batch_size=batch_size,\n",
    "                                          shuffle=False,\n",
    "                                          num_workers=1)\n",
    "loaders['test'] = torch.utils.data.DataLoader(data_test,\n",
    "                                          batch_size=batch_size,\n",
    "                                          shuffle=False,\n",
    "                                          num_workers=1)"
   ]
  },
  {
   "cell_type": "code",
   "execution_count": 19,
   "metadata": {},
   "outputs": [],
   "source": [
    "# for batch_idx, (data, target) in enumerate(loaders['train']):\n",
    "#     print(target)"
   ]
  },
  {
   "cell_type": "code",
   "execution_count": 20,
   "metadata": {},
   "outputs": [],
   "source": [
    "import torch.nn as nn\n",
    "import torch.nn.functional as F\n",
    "\n",
    "# define the CNN architecture\n",
    "class Net(nn.Module):\n",
    "    ### TODO: choose an architecture, and complete the class\n",
    "    def __init__(self):\n",
    "        super(Net, self).__init__()\n",
    "        self.fc1 = nn.Linear(297, 128)\n",
    "        self.fc2 = nn.Linear(128, 32)\n",
    "        self.fc3 = nn.Linear(32, 6)\n",
    "        self.dropout = nn.Dropout(0.3)\n",
    "\n",
    "\n",
    "\n",
    "\n",
    "    def forward(self, x):\n",
    "        x = torch.sigmoid(self.fc1(x))\n",
    "#         x = self.dropout(x)\n",
    "        x = torch.sigmoid(self.fc2(x))\n",
    "#         x = self.dropout(x)\n",
    "        x = torch.sigmoid(self.fc3(x))\n",
    "\n",
    "\n",
    "        return x\n",
    "\n",
    "#-#-# You do NOT have to modify the code below this line. #-#-#\n",
    "\n",
    "# instantiate the CNN\n",
    "model = Net()\n",
    "def init_weights(m):\n",
    "        print(m)\n",
    "        if type(m) == nn.Linear:\n",
    "            m.weight.data.fill_(1.0)\n",
    "#             print(m.weight)\n",
    "            \n",
    "def init_ortho(m):\n",
    "    print()\n",
    "    if type(m) == nn.Linear:\n",
    "        nn.init.orthogonal_(m.weight)\n",
    "#         print(m.weight)\n",
    "\n",
    "# use the modules apply function to recursively apply the initialization\n",
    "# model.apply(init_ortho)\n",
    "\n",
    "# move tensors to GPU if CUDA is available\n",
    "if use_cuda:\n",
    "    model.cuda()"
   ]
  },
  {
   "cell_type": "code",
   "execution_count": 21,
   "metadata": {},
   "outputs": [],
   "source": [
    "import torch.optim as optim\n",
    "\n",
    "### TODO: select loss function\n",
    "criterion = nn.CrossEntropyLoss()\n",
    "\n",
    "### TODO: select optimizer\n",
    "\n",
    "optimizer = optim.Adam(model.parameters(), lr=lr)\n",
    "# optimizer = optim.Adamax(model.parameters(), lr=0.01)\n",
    "# optimizer = optim.SGD(model.parameters(), lr=0.01,weight_decay= 1e-6, momentum = 0.9, nesterov = True)\n",
    "# optimizer = optim.SGD(model.parameters(), lr=0.01)"
   ]
  },
  {
   "cell_type": "code",
   "execution_count": null,
   "metadata": {},
   "outputs": [
    {
     "name": "stdout",
     "output_type": "stream",
     "text": [
      "Epoch: 1 \tValidation loss decreased from inf to 1.807814. Model was saved\n",
      "Epoch: 2 \tValidation loss decreased from 1.807814 to 1.795871. Model was saved\n",
      "Epoch: 3 \tValidation loss decreased from 1.795871 to 1.788756. Model was saved\n",
      "Epoch: 4 \tValidation loss decreased from 1.788756 to 1.784543. Model was saved\n",
      "Epoch: 5 \tValidation loss decreased from 1.784543 to 1.778727. Model was saved\n",
      "Epoch: 6 \tValidation loss decreased from 1.778727 to 1.770580. Model was saved\n",
      "Epoch: 7 \tValidation loss decreased from 1.770580 to 1.760905. Model was saved\n",
      "Epoch: 8 \tValidation loss decreased from 1.760905 to 1.749807. Model was saved\n",
      "Epoch: 9 \tValidation loss decreased from 1.749807 to 1.737355. Model was saved\n",
      "Epoch: 10 \tValidation loss decreased from 1.737355 to 1.724422. Model was saved\n",
      "Epoch: 11 \tValidation loss decreased from 1.724422 to 1.710298. Model was saved\n",
      "Epoch: 12 \tValidation loss decreased from 1.710298 to 1.695636. Model was saved\n",
      "Epoch: 13 \tValidation loss decreased from 1.695636 to 1.681865. Model was saved\n",
      "Epoch: 14 \tValidation loss decreased from 1.681865 to 1.674182. Model was saved\n",
      "Epoch: 15 \tValidation loss decreased from 1.674182 to 1.658438. Model was saved\n",
      "Epoch: 16 \tValidation loss decreased from 1.658438 to 1.653806. Model was saved\n",
      "Epoch: 17 \tValidation loss decreased from 1.653806 to 1.630989. Model was saved\n",
      "Epoch: 18 \tValidation loss decreased from 1.630989 to 1.620598. Model was saved\n",
      "Epoch: 19 \tValidation loss decreased from 1.620598 to 1.615288. Model was saved\n",
      "Epoch: 20 \tValidation loss decreased from 1.615288 to 1.605590. Model was saved\n",
      "Epoch: 21 \tValidation loss decreased from 1.605590 to 1.604464. Model was saved\n",
      "Epoch: 22 \tValidation loss decreased from 1.604464 to 1.603926. Model was saved\n",
      "Epoch: 23 \tValidation loss decreased from 1.603926 to 1.596753. Model was saved\n",
      "Epoch: 24 \tValidation loss decreased from 1.596753 to 1.596616. Model was saved\n",
      "Epoch: 25 \tValidation loss decreased from 1.596616 to 1.588018. Model was saved\n",
      "Epoch: 26 \tValidation loss decreased from 1.588018 to 1.584463. Model was saved\n",
      "Epoch: 27 \tValidation loss decreased from 1.584463 to 1.580299. Model was saved\n",
      "Epoch: 28 \tValidation loss decreased from 1.580299 to 1.573734. Model was saved\n",
      "Epoch: 29 \tValidation loss decreased from 1.573734 to 1.569875. Model was saved\n",
      "Epoch: 30 \tValidation loss decreased from 1.569875 to 1.566397. Model was saved\n",
      "Epoch: 31 \tValidation loss decreased from 1.566397 to 1.561228. Model was saved\n",
      "Epoch: 32 \tValidation loss decreased from 1.561228 to 1.559011. Model was saved\n",
      "Epoch: 33 \tValidation loss decreased from 1.559011 to 1.553406. Model was saved\n",
      "Epoch: 34 \tValidation loss decreased from 1.553406 to 1.549858. Model was saved\n",
      "Epoch: 35 \tValidation loss decreased from 1.549858 to 1.542349. Model was saved\n",
      "Epoch: 37 \tValidation loss decreased from 1.542349 to 1.534396. Model was saved\n",
      "Epoch: 39 \tValidation loss decreased from 1.534396 to 1.532577. Model was saved\n",
      "Epoch: 53 \tValidation loss decreased from 1.532577 to 1.531736. Model was saved\n",
      "Epoch: 55 \tValidation loss decreased from 1.531736 to 1.530942. Model was saved\n",
      "Epoch: 69 \tValidation loss decreased from 1.530942 to 1.530385. Model was saved\n",
      "Epoch: 72 \tValidation loss decreased from 1.530385 to 1.529457. Model was saved\n",
      "Epoch: 74 \tValidation loss decreased from 1.529457 to 1.529398. Model was saved\n",
      "Epoch: 76 \tValidation loss decreased from 1.529398 to 1.528777. Model was saved\n",
      "Epoch: 78 \tValidation loss decreased from 1.528777 to 1.527717. Model was saved\n",
      "Epoch: 79 \tValidation loss decreased from 1.527717 to 1.523926. Model was saved\n",
      "Epoch: 80 \tValidation loss decreased from 1.523926 to 1.523556. Model was saved\n",
      "Epoch: 81 \tValidation loss decreased from 1.523556 to 1.520443. Model was saved\n",
      "Epoch: 83 \tValidation loss decreased from 1.520443 to 1.511146. Model was saved\n",
      "Epoch: 85 \tValidation loss decreased from 1.511146 to 1.504977. Model was saved\n",
      "Epoch: 109 \tValidation loss decreased from 1.504977 to 1.502489. Model was saved\n",
      "Epoch: 113 \tValidation loss decreased from 1.502489 to 1.496131. Model was saved\n",
      "Epoch: 115 \tValidation loss decreased from 1.496131 to 1.488488. Model was saved\n",
      "Epoch: 123 \tValidation loss decreased from 1.488488 to 1.486504. Model was saved\n",
      "Epoch: 124 \tValidation loss decreased from 1.486504 to 1.483081. Model was saved\n",
      "Epoch: 126 \tValidation loss decreased from 1.483081 to 1.481970. Model was saved\n",
      "Epoch: 127 \tValidation loss decreased from 1.481970 to 1.479095. Model was saved\n",
      "Epoch: 129 \tValidation loss decreased from 1.479095 to 1.472540. Model was saved\n",
      "Epoch: 132 \tValidation loss decreased from 1.472540 to 1.464974. Model was saved\n",
      "Epoch: 135 \tValidation loss decreased from 1.464974 to 1.460509. Model was saved\n",
      "Epoch: 137 \tValidation loss decreased from 1.460509 to 1.459199. Model was saved\n",
      "Epoch: 138 \tValidation loss decreased from 1.459199 to 1.458345. Model was saved\n",
      "Epoch: 139 \tValidation loss decreased from 1.458345 to 1.455983. Model was saved\n",
      "Epoch: 140 \tValidation loss decreased from 1.455983 to 1.452530. Model was saved\n",
      "Epoch: 142 \tValidation loss decreased from 1.452530 to 1.450877. Model was saved\n",
      "Epoch: 143 \tValidation loss decreased from 1.450877 to 1.448065. Model was saved\n",
      "Epoch: 145 \tValidation loss decreased from 1.448065 to 1.447902. Model was saved\n",
      "Epoch: 146 \tValidation loss decreased from 1.447902 to 1.447551. Model was saved\n",
      "Epoch: 147 \tValidation loss decreased from 1.447551 to 1.446578. Model was saved\n",
      "Epoch: 148 \tValidation loss decreased from 1.446578 to 1.446083. Model was saved\n",
      "Epoch: 150 \tValidation loss decreased from 1.446083 to 1.444160. Model was saved\n",
      "Epoch: 152 \tValidation loss decreased from 1.444160 to 1.442932. Model was saved\n",
      "Epoch: 154 \tValidation loss decreased from 1.442932 to 1.438644. Model was saved\n",
      "Epoch: 159 \tValidation loss decreased from 1.438644 to 1.434847. Model was saved\n",
      "Epoch: 161 \tValidation loss decreased from 1.434847 to 1.431813. Model was saved\n",
      "Epoch: 164 \tValidation loss decreased from 1.431813 to 1.430792. Model was saved\n",
      "Epoch: 166 \tValidation loss decreased from 1.430792 to 1.427201. Model was saved\n",
      "Epoch: 168 \tValidation loss decreased from 1.427201 to 1.426228. Model was saved\n",
      "Epoch: 170 \tValidation loss decreased from 1.426228 to 1.424055. Model was saved\n",
      "Epoch: 171 \tValidation loss decreased from 1.424055 to 1.423939. Model was saved\n",
      "Epoch: 172 \tValidation loss decreased from 1.423939 to 1.419723. Model was saved\n",
      "Epoch: 174 \tValidation loss decreased from 1.419723 to 1.415831. Model was saved\n",
      "Epoch: 176 \tValidation loss decreased from 1.415831 to 1.412004. Model was saved\n",
      "Epoch: 185 \tValidation loss decreased from 1.412004 to 1.408355. Model was saved\n",
      "Epoch: 189 \tValidation loss decreased from 1.408355 to 1.400994. Model was saved\n",
      "Epoch: 193 \tValidation loss decreased from 1.400994 to 1.395272. Model was saved\n",
      "Epoch: 211 \tValidation loss decreased from 1.395272 to 1.392725. Model was saved\n",
      "Epoch: 212 \tValidation loss decreased from 1.392725 to 1.390387. Model was saved\n",
      "Epoch: 215 \tValidation loss decreased from 1.390387 to 1.389580. Model was saved\n",
      "Epoch: 216 \tValidation loss decreased from 1.389580 to 1.385475. Model was saved\n",
      "Epoch: 217 \tValidation loss decreased from 1.385475 to 1.384843. Model was saved\n",
      "Epoch: 218 \tValidation loss decreased from 1.384843 to 1.382538. Model was saved\n",
      "Epoch: 219 \tValidation loss decreased from 1.382538 to 1.380270. Model was saved\n",
      "Epoch: 220 \tValidation loss decreased from 1.380270 to 1.379280. Model was saved\n",
      "Epoch: 221 \tValidation loss decreased from 1.379280 to 1.378633. Model was saved\n",
      "Epoch: 223 \tValidation loss decreased from 1.378633 to 1.377343. Model was saved\n",
      "Epoch: 224 \tValidation loss decreased from 1.377343 to 1.375047. Model was saved\n",
      "Epoch: 225 \tValidation loss decreased from 1.375047 to 1.374979. Model was saved\n",
      "Epoch: 228 \tValidation loss decreased from 1.374979 to 1.374915. Model was saved\n",
      "Epoch: 229 \tValidation loss decreased from 1.374915 to 1.374727. Model was saved\n",
      "Epoch: 244 \tValidation loss decreased from 1.374727 to 1.374596. Model was saved\n",
      "Epoch: 245 \tValidation loss decreased from 1.374596 to 1.374430. Model was saved\n",
      "Epoch: 274 \tValidation loss decreased from 1.374430 to 1.373584. Model was saved\n"
     ]
    }
   ],
   "source": [
    "import time\n",
    "\n",
    "def train(n_epochs, loaders, model, optimizer, criterion, use_cuda, save_path):\n",
    "    \"\"\"returns trained model\"\"\"\n",
    "    # initialize tracker for minimum validation loss\n",
    "    valid_loss_min = np.Inf \n",
    "    # open a new log file\n",
    "    history_file = open(\"training_history.txt\", \"w\")\n",
    "    history_file.close()\n",
    "    \n",
    "    for epoch in range(1, n_epochs+1):\n",
    "        \n",
    "        # reopen log file for appending new line of info\n",
    "        history_file = open(\"training_history.txt\", \"a\")\n",
    "\n",
    "        # initialize variables to monitor training and validation loss\n",
    "        train_loss = 0.0\n",
    "        valid_loss = 0.0\n",
    "        \n",
    "        start = time.time()\n",
    "        \n",
    "        ###################\n",
    "        # train the model #\n",
    "        ###################\n",
    "        model.train()\n",
    "        for batch_idx, (data, target) in enumerate(loaders['train']):\n",
    "\n",
    "#             data = data.type((torch.FloatTensor))\n",
    "\n",
    "            # move to GPU\n",
    "            if use_cuda:\n",
    "                data, target = data.cuda(), target.cuda()\n",
    "            # clear the gradients of all optimized variables\n",
    "            optimizer.zero_grad()\n",
    "            # forward pass: compute predicted outputs by passing inputs to the model\n",
    "            output = model(data)\n",
    "            # calculate the batch loss\n",
    "            loss = criterion(output, target)\n",
    "            # backward pass: compute gradient of the loss with respect to model parameters\n",
    "            loss.backward()\n",
    "            # perform a single optimization step (parameter update)\n",
    "            optimizer.step()\n",
    "            # update accumulated training loss\n",
    "            train_loss += loss.item()*data.size(0)\n",
    "            \n",
    "        ######################    \n",
    "        # validate the model #\n",
    "        ######################\n",
    "        model.eval()\n",
    "        for batch_idx, (data, target) in enumerate(loaders['valid']):\n",
    "            \n",
    "#             data = data.type((torch.FloatTensor))\n",
    "            # move to GPU\n",
    "            if use_cuda:\n",
    "                data, target = data.cuda(), target.cuda()\n",
    "\n",
    "            # forward pass: compute predicted outputs by passing inputs to the model\n",
    "            output = model(data)\n",
    "            # calculate the batch loss\n",
    "            loss = criterion(output, target)\n",
    "            # update accumulated validation loss \n",
    "            valid_loss += loss.item()*data.size(0)\n",
    "            \n",
    "\n",
    "        train_loss = train_loss/len(loaders['train'].dataset)\n",
    "        valid_loss = valid_loss/len(loaders['valid'].dataset)\n",
    "        \n",
    "        # print training/validation statistics \n",
    "        print('Epoch: {} \\tTraining Loss: {:.6f} \\tValidation Loss: {:.6f} \\t time: {:.1f}'.format(\n",
    "            epoch, \n",
    "            train_loss,\n",
    "            valid_loss,\n",
    "            time.time() - start\n",
    "            ), file=history_file)\n",
    "\n",
    "        ## TODO: save the model if validation loss has decreased\n",
    "        if valid_loss < valid_loss_min:\n",
    "            print('Validation loss decreased from {:.6f} to {:.6f}. Model was saved'.format(\n",
    "                valid_loss_min,\n",
    "                valid_loss\n",
    "            ), file=history_file)\n",
    "            print('Epoch: {} \\tValidation loss decreased from {:.6f} to {:.6f}. Model was saved'.format(\n",
    "                epoch,\n",
    "                valid_loss_min,\n",
    "                valid_loss\n",
    "            ))\n",
    "            \n",
    "            torch.save(model.state_dict(), save_path)\n",
    "            valid_loss_min = valid_loss\n",
    "        history_file.close()\n",
    "    # return trained model\n",
    "    return model\n",
    "\n",
    "\n",
    "# train the model\n",
    "model = train(n_epochs, loaders, model, optimizer, \n",
    "                      criterion, use_cuda, 'model.pt')"
   ]
  },
  {
   "cell_type": "markdown",
   "metadata": {},
   "source": [
    "Epoch: 215 \tTraining Loss: 1.329372 \tValidation Loss: 1.419149 \t time: 0.4\n",
    "Epoch: 216 \tTraining Loss: 1.328865 \tValidation Loss: 1.416587 \t time: 0.4\n",
    "Validation loss decreased from 1.417114 to 1.416587. Model was saved\n",
    "Kaggle score = 0.54438 (0.0006 IMPROVEMENT)\n",
    "\n",
    "Epoch: 216 \tTraining Loss: 1.326797 \tValidation Loss: 1.396590 \t time: 0.7\n",
    "Epoch: 217 \tTraining Loss: 1.326093 \tValidation Loss: 1.396514 \t time: 0.7\n",
    "Epoch: 218 \tTraining Loss: 1.325473 \tValidation Loss: 1.394434 \t time: 0.6\n",
    "Validation loss decreased from 1.396026 to 1.394434. Model was saved\n",
    "Kaggle score = 55245 (0.011 IMPROVEMENT)\n",
    "\n",
    "Epoch: 364 \tTraining Loss: 1.229904 \tValidation Loss: 1.381198 \t time: 0.3\n",
    "Validation loss decreased from 1.384373 to 1.381198. Model was saved\n",
    "Epoch: 365 \tTraining Loss: 1.231026 \tValidation Loss: 1.394960 \t time: 0.3\n",
    "Epoch: 366 \tTraining Loss: 1.231521 \tValidation Loss: 1.379200 \t time: 0.3\n",
    "Validation loss decreased from 1.381198 to 1.379200. Model was saved\n",
    "Epoch: 367 \tTraining Loss: 1.232151 \tValidation Loss: 1.395807 \t time: 0.3\n",
    "Epoch: 368 \tTraining Loss: 1.230561 \tValidation Loss: 1.391226 \t time: 0.3\n"
   ]
  },
  {
   "cell_type": "code",
   "execution_count": null,
   "metadata": {},
   "outputs": [],
   "source": [
    "def test(loaders, model, criterion, use_cuda):\n",
    "\n",
    "    # monitor test loss and accuracy\n",
    "    test_loss = 0.\n",
    "    correct = 0.\n",
    "    total = 0.\n",
    "\n",
    "    model.eval()\n",
    "    for batch_idx, (data, target) in enumerate(loaders['test']):\n",
    "        \n",
    "#         data = data.type((torch.FloatTensor))\n",
    "        # move to GPU\n",
    "        if use_cuda:\n",
    "            data, target = data.cuda(), target.cuda()\n",
    "        # forward pass: compute predicted outputs by passing inputs to the model\n",
    "        output = model(data)\n",
    "        # calculate the loss\n",
    "        loss = criterion(output, target)\n",
    "        # update average test loss \n",
    "        test_loss = test_loss + ((1 / (batch_idx + 1)) * (loss.data - test_loss))\n",
    "        # convert output probabilities to predicted class\n",
    "        pred = output.data.max(1, keepdim=True)[1]\n",
    "        # compare predictions to true label\n",
    "        correct += np.sum(np.squeeze(pred.eq(target.data.view_as(pred))).cpu().numpy())\n",
    "        total += data.size(0)\n",
    "            \n",
    "    print('Test Loss: {:.6f}\\n'.format(test_loss))\n",
    "\n",
    "    print('\\nTest Accuracy: %2d%% (%2d/%2d)' % (\n",
    "        100. * correct / total, correct, total))\n",
    "\n",
    "# load the model that got the best validation accuracy\n",
    "model.load_state_dict(torch.load('model.pt'))\n",
    "# call test function    \n",
    "test(loaders, model, criterion, use_cuda)"
   ]
  },
  {
   "cell_type": "code",
   "execution_count": null,
   "metadata": {},
   "outputs": [],
   "source": [
    "# i,l = next(iter(loaders['test']))\n",
    "# if use_cuda:\n",
    "#     i, l = i.cuda(), l.cuda()\n",
    "\n",
    "# output = model(i)\n",
    "\n",
    "# result = output.cpu().data.max(1, keepdim=True)[1].numpy()\n",
    "# result[:,0]"
   ]
  },
  {
   "cell_type": "code",
   "execution_count": null,
   "metadata": {},
   "outputs": [],
   "source": [
    "# d = result[:,0]\n",
    "# plt.hist(d)"
   ]
  },
  {
   "cell_type": "code",
   "execution_count": null,
   "metadata": {},
   "outputs": [],
   "source": [
    "# plt.hist(l.cpu().numpy())"
   ]
  },
  {
   "cell_type": "code",
   "execution_count": null,
   "metadata": {},
   "outputs": [],
   "source": [
    "features_test_data = torch.tensor(features_test.values).type((torch.FloatTensor))\n",
    "if use_cuda:\n",
    "    features_test_data = features_test_data.cuda()\n",
    "predicted_class = model(features_test_data)\n",
    "# We will look at the predicted prices to ensure we have something sensible.\n",
    "predicted_class = predicted_class.data.cpu().max(1, keepdim=True)[1].numpy()[:,0]\n",
    "predicted_class"
   ]
  },
  {
   "cell_type": "code",
   "execution_count": null,
   "metadata": {},
   "outputs": [],
   "source": [
    "solution = pd.DataFrame({\"ID\":id, \"class\":predicted_class})\n",
    "solution.to_csv(\"pokemon_sol.csv\", index = False)"
   ]
  }
 ],
 "metadata": {
  "kernelspec": {
   "display_name": "Python 3",
   "language": "python",
   "name": "python3"
  },
  "language_info": {
   "codemirror_mode": {
    "name": "ipython",
    "version": 3
   },
   "file_extension": ".py",
   "mimetype": "text/x-python",
   "name": "python",
   "nbconvert_exporter": "python",
   "pygments_lexer": "ipython3",
   "version": "3.6.6"
  }
 },
 "nbformat": 4,
 "nbformat_minor": 2
}
