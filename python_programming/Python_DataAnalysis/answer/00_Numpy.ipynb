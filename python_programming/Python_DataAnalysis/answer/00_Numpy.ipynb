{
 "cells": [
  {
   "cell_type": "markdown",
   "metadata": {},
   "source": [
    "## Numpy\n",
    "NumPy is the fundamental package for scientific computing with Python. "
   ]
  },
  {
   "cell_type": "markdown",
   "metadata": {},
   "source": [
    "NumPy’s main object is the homogeneous multidimensional array.  \n",
    "It is a table of elements (usually numbers), all of the **same type**, indexed by a tuple of positive integers.  \n",
    "In NumPy dimensions are called **axes**."
   ]
  },
  {
   "cell_type": "markdown",
   "metadata": {},
   "source": [
    "### Concept of axis\n",
    "\n",
    "Reference: 手把手打開資料分析大門\n",
    "https://www.slideshare.net/tw_dsconf/python-83977705/61"
   ]
  },
  {
   "cell_type": "code",
   "execution_count": null,
   "metadata": {},
   "outputs": [],
   "source": [
    "# one axis\n",
    "[1, 3, 5]  # 3 elements, it has a length of 3.\n",
    "\n",
    "# 2 axes\n",
    "[[ 1, 3, 5],\n",
    " [ 2, 4, 6]]  # The first axis has a length of 2, the second axis has a length of 3."
   ]
  },
  {
   "cell_type": "markdown",
   "metadata": {},
   "source": [
    "NumPy’s array class is called **ndarray**. It is also known by the alias **array**.  \n",
    "Note that numpy.array is not the same as the Standard Python Library class array.array, which only handles one-dimensional arrays and offers less functionality."
   ]
  },
  {
   "cell_type": "markdown",
   "metadata": {},
   "source": [
    "### Create ndarray"
   ]
  },
  {
   "cell_type": "code",
   "execution_count": null,
   "metadata": {},
   "outputs": [],
   "source": [
    "import numpy as np\n",
    "\n",
    "# create 1 axis array\n",
    "x = np.arange(3)\n",
    "\n",
    "print(x)\n",
    "print(type(x))  # <class 'numpy.ndarray'>\n",
    "\n",
    "# check if ndarray type\n",
    "isinstance(x, np.ndarray)  # True\n",
    "\n",
    "# be explicitly specified type\n",
    "y = np.arange(3, dtype='float64')  # [ 0.  1.  2.]\n",
    "print(y)"
   ]
  },
  {
   "cell_type": "code",
   "execution_count": null,
   "metadata": {},
   "outputs": [],
   "source": [
    "import numpy as np\n",
    "\n",
    "existed_list = [18, 15, 21, 10, 88, 76, 29, 20]\n",
    "\n",
    "np_array = np.array(existed_list)\n",
    "print(np_array)  # [18 15 21 10 88 76 29 20]"
   ]
  },
  {
   "cell_type": "markdown",
   "metadata": {},
   "source": [
    "### Important attributes of  ndarray"
   ]
  },
  {
   "cell_type": "code",
   "execution_count": null,
   "metadata": {},
   "outputs": [],
   "source": [
    "import numpy as np\n",
    "\n",
    "x = np.arange(3)\n",
    "print(x)\n",
    "\n",
    "# ndim - the number of axes (dimensions) of the array.\n",
    "print(x.ndim)  # 1 dim\n",
    "\n",
    "# shape - the dimensions of the array. \n",
    "# This is a tuple of integers indicating the size of the array in each dimension.\n",
    "print(x.shape)  # (3, )\n",
    "\n",
    "# size - the total number of elements of the array. \n",
    "print(x.size)  # 3\n",
    "\n",
    "# dtype - the type of the elements in the array.\n",
    "print(x.dtype)  # int64"
   ]
  },
  {
   "cell_type": "markdown",
   "metadata": {},
   "source": [
    "### Axes reshape\n",
    "Gives a new shape to an array without changing its data."
   ]
  },
  {
   "cell_type": "code",
   "execution_count": null,
   "metadata": {},
   "outputs": [],
   "source": [
    "# reshape\n",
    "x = np.arange(6)\n",
    "print(x)  # [0 1 2 3 4 5]\n",
    "\n",
    "new_shape = x.reshape(2, 3)\n",
    "print(new_shape) # [[0 1 2]\n",
    "                 #  [3 4 5]]\n",
    "\n",
    "# equivalently\n",
    "new_shape = np.reshape(x, (2, 3))    \n",
    "    \n",
    "    \n",
    "# also can be one line to create and reshpae\n",
    "y = np.arange(6).reshape(2, 3)"
   ]
  },
  {
   "cell_type": "markdown",
   "metadata": {},
   "source": [
    "### Initial placeholder content"
   ]
  },
  {
   "cell_type": "code",
   "execution_count": null,
   "metadata": {},
   "outputs": [],
   "source": [
    "# np.zeros - full of zeros\n",
    "np.zeros(3)  # array([ 0.,  0.,  0.])\n",
    "\n",
    "np.zeros((2, 3))  # array([[ 0.,  0.,  0.],\n",
    "                  #        [ 0.,  0.,  0.]])\n",
    "\n",
    "    \n",
    "# np.ones - full of ones\n",
    "np.ones((2,3))  # array([[ 1.,  1.,  1.],\n",
    "                #        [ 1.,  1.,  1.]])\n",
    "\n",
    "    \n",
    "# np.identity - a square array with ones on the main diagonal\n",
    "np.identity(3)  # array([[ 1.,  0.,  0.],\n",
    "                #        [ 0.,  1.,  0.],\n",
    "                #        [ 0.,  0.,  1.]])\n",
    "\n",
    "\n",
    "# By default, the dtype of the created array is float64.\n",
    "# using dtype change the type\n",
    "# np.zeros(3, dtype=np.int16)"
   ]
  },
  {
   "cell_type": "markdown",
   "metadata": {},
   "source": [
    "### Array Index\n",
    "\n",
    "Array indexing refers to any use of the square brackets ( [ ] ) to index array values."
   ]
  },
  {
   "cell_type": "code",
   "execution_count": null,
   "metadata": {},
   "outputs": [],
   "source": [
    "import numpy as np\n",
    "\n",
    "# 1-D array\n",
    "x = np.arange(6)  # array([0, 1, 2, 3, 4, 5])\n",
    "x[2]   # 2\n",
    "x[-2]  # 4\n",
    "\n",
    "\n",
    "# 2-D array\n",
    "x = np.arange(6).reshape(2, 3)  #[[0, 1, 2],\n",
    "                                # [3, 4, 5]])\n",
    "x[0, 2]   # 2\n",
    "x[1, -1]  # 5"
   ]
  },
  {
   "cell_type": "markdown",
   "metadata": {},
   "source": [
    "### Array Slice & Stride\n",
    "\n",
    "The slicing and striding works exactly the same way it does for lists except that they can be applied to multiple dimensions as well."
   ]
  },
  {
   "cell_type": "code",
   "execution_count": null,
   "metadata": {},
   "outputs": [],
   "source": [
    "import numpy as np\n",
    "\n",
    "# 1-D array\n",
    "x = np.arange(6)  # array([0, 1, 2, 3, 4, 5])\n",
    "x[1:5]   # [2, 3, 4]\n",
    "x[:2]    # [0, 1]\n",
    "x[1:5:2] # [1, 3]\n",
    "\n",
    "\n",
    "# 2-D array\n",
    "x = np.arange(6).reshape(2, 3)  #[[0, 1, 2],\n",
    "                                # [3, 4, 5]])\n",
    "x[0, 0:2]    #  [0, 1]\n",
    "x[:, 1:]     # [[1, 2],\n",
    "             #  [4, 5]]\n",
    "x[::1, ::2]  # [[0, 2],\n",
    "             #  [3, 5]]"
   ]
  },
  {
   "cell_type": "markdown",
   "metadata": {},
   "source": [
    "### Boolean / Mask Index \n",
    "Boolean arrays must be of the same shape as the initial dimensions of the array being indexed."
   ]
  },
  {
   "cell_type": "code",
   "execution_count": null,
   "metadata": {},
   "outputs": [],
   "source": [
    "import numpy as np\n",
    "\n",
    "# 1-D array\n",
    "x = np.arange(6)  # array([0, 1, 2, 3, 4, 5])\n",
    "condition = x<3\n",
    "x[condition]      # [0, 1, 2]\n",
    "\n",
    "x[condition] = 0\n",
    "x                 # [0, 0, 0, 3, 4, 5]\n",
    "\n",
    "\n",
    "# why called mask?\n",
    "\n",
    "# original_x      # [ 0,    1,    2,   3,    4,    5]\n",
    "# if <3, assign 0\n",
    "print(condition)  # [ True  True  True False False False]\n",
    "x                 # [ 0,    0,    0,   3,    4,    5]"
   ]
  },
  {
   "cell_type": "markdown",
   "metadata": {},
   "source": [
    "### Concatenate\n",
    "Join a sequence of arrays along an existing axis."
   ]
  },
  {
   "cell_type": "code",
   "execution_count": null,
   "metadata": {},
   "outputs": [],
   "source": [
    "import numpy as np\n",
    "\n",
    "a = np.array([[1, 2, 3], [4, 5, 6]])\n",
    "b = np.array([[7, 8, 9]])\n",
    "\n",
    "np.concatenate((a, b), axis=0)  # [[1, 2, 3],\n",
    "                                #  [4, 5, 6],\n",
    "                                #  [7, 8, 9]]\n",
    "\n",
    "c =  [[0], [0]]       \n",
    "np.concatenate((a, c), axis=1)  # [[1, 2, 3, 0],\n",
    "                                #  [4, 5, 6, 0]]"
   ]
  },
  {
   "cell_type": "markdown",
   "metadata": {},
   "source": [
    "### Basic Operations"
   ]
  },
  {
   "cell_type": "code",
   "execution_count": null,
   "metadata": {},
   "outputs": [],
   "source": [
    "import numpy as np\n",
    "a = np.array([[1, 2], [3, 4]])\n",
    "b = np.array([[5, 6], [7, 8]])\n",
    "\n",
    "print(a + b)  # array([[6, 8], [10, 12]])\n",
    "print(a - b)  # array([[-4, -4], [-4, -4]])\n",
    "print(a * b)  # array([[5, 12], [21, 32]])\n",
    "print(a / b)  # array([[0.2, 0.33333333], [0.42857143, 0.5]]\n",
    "\n",
    "print(a - 1)  # array([[0, 1], [2, 3]])\n",
    "print(a * 2)  # array([[2, 4], [6, 8]])"
   ]
  },
  {
   "cell_type": "markdown",
   "metadata": {},
   "source": [
    "### Basic Linear Algebra\n",
    "\n",
    "轉置矩陣：m \\* n 矩陣在向量空間上轉置為 n \\* m 矩陣  \n",
    "逆矩陣：n \\* n 矩陣 A 存在一個 n \\* n 矩陣 B，使得 AB = BA = I"
   ]
  },
  {
   "cell_type": "code",
   "execution_count": null,
   "metadata": {},
   "outputs": [],
   "source": [
    "import numpy as np\n",
    "\n",
    "# 轉置矩陣\n",
    "a = np.array([[0, 1], \n",
    "              [2, 3]])\n",
    "\n",
    "print(a.T)  #[[0, 2],\n",
    "            # [1, 3]]\n",
    "\n",
    "# 逆矩陣\n",
    "inverse = np.linalg.inv(a)\n",
    "print(inverse)             # [[-1.5, 0.5], \n",
    "                           #  [1,    0]]\n",
    "\n",
    "# 內積 \n",
    "print(np.dot(a, inverse))  # [[ 1.  0.]\n",
    "                           #  [ 0.  1.]]"
   ]
  },
  {
   "cell_type": "markdown",
   "metadata": {},
   "source": [
    "### Vector Stacking"
   ]
  },
  {
   "cell_type": "code",
   "execution_count": null,
   "metadata": {},
   "outputs": [],
   "source": [
    "import numpy as np\n",
    "\n",
    "a = np.array([[0, 1], \n",
    "              [2, 3]])\n",
    "\n",
    "b = np.array([[4, 5], \n",
    "              [6, 7]])\n",
    "\n",
    "c = np.array([[8,  9], \n",
    "              [10, 11]])\n",
    "\n",
    "# vertical\n",
    "v = np.vstack((a, b, c))\n",
    "print(v.shape)  # (6, 2)\n",
    "print(v)\n",
    "\n",
    "# horizontal\n",
    "h = np.hstack((a, b, c))\n",
    "print(h.shape)  # (2, 6)\n",
    "print(h)\n",
    "\n",
    "# stack \n",
    "s = np.stack([a, b, c], axis=0)\n",
    "print(s.shape)  # (3, 2, 2)\n",
    "print(s)"
   ]
  },
  {
   "cell_type": "markdown",
   "metadata": {},
   "source": [
    "## 練習題"
   ]
  },
  {
   "cell_type": "code",
   "execution_count": null,
   "metadata": {
    "collapsed": true
   },
   "outputs": [],
   "source": [
    "import numpy as np"
   ]
  },
  {
   "cell_type": "raw",
   "metadata": {},
   "source": [
    "Q1. Create a vector with values ranging from 10 to 49 by np.arrange"
   ]
  },
  {
   "cell_type": "code",
   "execution_count": null,
   "metadata": {},
   "outputs": [],
   "source": [
    "Z = np.arange(10, 50)\n",
    "print(Z)"
   ]
  },
  {
   "cell_type": "raw",
   "metadata": {},
   "source": [
    "Q2. Reverse a vector (first element becomes last)"
   ]
  },
  {
   "cell_type": "code",
   "execution_count": null,
   "metadata": {},
   "outputs": [],
   "source": [
    "Z = np.arange(50)\n",
    "Z = Z[::-1]\n",
    "print(Z)"
   ]
  },
  {
   "cell_type": "raw",
   "metadata": {},
   "source": [
    "Q3. Create a 3x3x3 array with random values by np.random.random"
   ]
  },
  {
   "cell_type": "code",
   "execution_count": null,
   "metadata": {},
   "outputs": [],
   "source": [
    "Z = np.random.random((3, 3, 3))\n",
    "print(Z)"
   ]
  },
  {
   "cell_type": "raw",
   "metadata": {},
   "source": [
    "Q4. Create a 10x10 array with random values and find the minimum and maximum values by np.min, np.max"
   ]
  },
  {
   "cell_type": "code",
   "execution_count": null,
   "metadata": {},
   "outputs": [],
   "source": [
    "Z = np.random.random((10, 10))\n",
    "Zmin, Zmax = Z.min(), Z.max()\n",
    "print(Zmin, Zmax)"
   ]
  },
  {
   "cell_type": "raw",
   "metadata": {},
   "source": [
    "Q5. Add a border (filled with 0's) around an 3 * 3 matrix with 1 by np.pad"
   ]
  },
  {
   "cell_type": "code",
   "execution_count": null,
   "metadata": {},
   "outputs": [],
   "source": [
    "Z = np.ones((3, 3))\n",
    "Z = np.pad(Z, pad_width=1, mode='constant', constant_values=0)\n",
    "print(Z)"
   ]
  },
  {
   "cell_type": "raw",
   "metadata": {},
   "source": [
    "Q6. Normalize a 5x5 random matrix by divide max number"
   ]
  },
  {
   "cell_type": "code",
   "execution_count": null,
   "metadata": {},
   "outputs": [],
   "source": [
    "Z = np.random.random((5, 5))\n",
    "Z2 = Z / Z.max()\n",
    "Zmax, Zmin = Z.max(), Z.min()\n",
    "Z1 = (Z - Zmin) / (Zmax - Zmin)\n",
    "print(Z1)\n",
    "print(Z2)"
   ]
  },
  {
   "cell_type": "raw",
   "metadata": {},
   "source": [
    "Q7. Given a 1D array, negate all elements which are between 3 and 8, in place."
   ]
  },
  {
   "cell_type": "code",
   "execution_count": null,
   "metadata": {},
   "outputs": [],
   "source": [
    "Z = np.arange(11)\n",
    "Z[(3 < Z) & (Z <= 8)] *= -1\n",
    "print(Z)"
   ]
  },
  {
   "cell_type": "raw",
   "metadata": {},
   "source": [
    "Q8. Extract from the array np.array([3,4,6,10,24,89,45,43,46,99,100]) with Boolean masking all the number:  \n",
    "\n",
    "(1) which are not divisible by 3  \n",
    "(2) which are divisible by 5  \n",
    "(3) which are divisible by 3 and 5"
   ]
  },
  {
   "cell_type": "code",
   "execution_count": null,
   "metadata": {},
   "outputs": [],
   "source": [
    "A = np.array([3,4,6,10,24,89,45,43,46,99,100])\n",
    "div3 = A[A%3 != 0]\n",
    "print(div3)\n",
    "\n",
    "div5 = A[A%5 == 0]\n",
    "print(div5)\n",
    "\n",
    "div15 = A[(A%3 == 0) & (A%5 == 0)]\n",
    "print(div15)"
   ]
  },
  {
   "cell_type": "raw",
   "metadata": {},
   "source": [
    "Q9. Create random vector of size 10 and replace the maximum value by 0 (np.argmax)"
   ]
  },
  {
   "cell_type": "code",
   "execution_count": null,
   "metadata": {},
   "outputs": [],
   "source": [
    "Z = np.random.random(10)\n",
    "Z[Z.argmax()] = 0\n",
    "print(Z)"
   ]
  },
  {
   "cell_type": "raw",
   "metadata": {},
   "source": [
    "Q10. Create a 5x5 matrix with row values ranging from 0 to 4"
   ]
  },
  {
   "cell_type": "code",
   "execution_count": null,
   "metadata": {},
   "outputs": [],
   "source": [
    "Z = np.zeros((5, 5))\n",
    "Z += np.arange(5)\n",
    "print(Z)"
   ]
  },
  {
   "cell_type": "markdown",
   "metadata": {},
   "source": [
    "### 請參考 [100-numpy-exercises](https://github.com/rougier/numpy-100/blob/master/100%20Numpy%20exercises.md) 做更多 numpy 的操作練習"
   ]
  }
 ],
 "metadata": {
  "kernelspec": {
   "display_name": "Python 3",
   "language": "python",
   "name": "python3"
  },
  "language_info": {
   "codemirror_mode": {
    "name": "ipython",
    "version": 3
   },
   "file_extension": ".py",
   "mimetype": "text/x-python",
   "name": "python",
   "nbconvert_exporter": "python",
   "pygments_lexer": "ipython3",
   "version": "3.6.3"
  }
 },
 "nbformat": 4,
 "nbformat_minor": 2
}
