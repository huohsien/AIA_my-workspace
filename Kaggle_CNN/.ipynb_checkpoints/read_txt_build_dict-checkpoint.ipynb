{
 "cells": [
  {
   "cell_type": "code",
   "execution_count": 7,
   "metadata": {},
   "outputs": [
    {
     "data": {
      "text/plain": [
       "'/home/jovyan/my-workspace/Kaggle_CNN/mapping.txt'"
      ]
     },
     "execution_count": 7,
     "metadata": {},
     "output_type": "execute_result"
    }
   ],
   "source": [
    "import sys\n",
    "import os\n",
    "path = os.getcwd()\n",
    "filename = 'mapping.txt'\n",
    "full_path = '/'.join((path,filename))\n",
    "full_path"
   ]
  },
  {
   "cell_type": "code",
   "execution_count": 12,
   "metadata": {},
   "outputs": [
    {
     "data": {
      "text/plain": [
       "{'CALsuburb': ' 9',\n",
       " 'PARoffice': ' 7',\n",
       " 'bedroom': ' 12',\n",
       " 'coast': ' 10',\n",
       " 'forest': ' 4',\n",
       " 'highway': ' 14',\n",
       " 'industrial': ' 2',\n",
       " 'insidecity': ' 3',\n",
       " 'kitchen': ' 0',\n",
       " 'livingroom': ' 5',\n",
       " 'mountain': ' 8',\n",
       " 'opencountry': ' 6',\n",
       " 'store': ' 11',\n",
       " 'street': ' 1',\n",
       " 'tallbuilding': ' 13'}"
      ]
     },
     "execution_count": 12,
     "metadata": {},
     "output_type": "execute_result"
    }
   ],
   "source": [
    "with open(full_path) as f:\n",
    "    all_lines = [line.split(',') for line in f.read().splitlines()]\n",
    "\n",
    "mapping_dict ={}\n",
    "for line in all_lines:\n",
    "    mapping_dict[line[0]] = line[1]\n",
    "mapping_dict"
   ]
  }
 ],
 "metadata": {
  "kernelspec": {
   "display_name": "Python 3",
   "language": "python",
   "name": "python3"
  },
  "language_info": {
   "codemirror_mode": {
    "name": "ipython",
    "version": 3
   },
   "file_extension": ".py",
   "mimetype": "text/x-python",
   "name": "python",
   "nbconvert_exporter": "python",
   "pygments_lexer": "ipython3",
   "version": "3.6.6"
  }
 },
 "nbformat": 4,
 "nbformat_minor": 2
}
