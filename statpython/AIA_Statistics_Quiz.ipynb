{
 "cells": [
  {
   "cell_type": "markdown",
   "metadata": {},
   "source": [
    "## Question 1. 請用 Permutation Test 檢定 Iris dataset 中 第2, 3類品種的 Sepal Width 平均數是否統計上顯著不同：\n",
    "myData[myData['Classes']==1].values[:,0], myData[myData['Classes']==2].values[:,0] <br>\n",
    "請根據Permutation T Test 觀念完成下方的 Function!"
   ]
  },
  {
   "cell_type": "code",
   "execution_count": null,
   "metadata": {},
   "outputs": [],
   "source": [
    "from sklearn import datasets\n",
    "from scipy import stats\n",
    "import pandas as pd\n",
    "import numpy as np\n",
    "\n",
    "#load dataset\n",
    "iris = datasets.load_iris()\n",
    "iris_data = iris.data\n",
    "print(iris.feature_names)\n",
    "\n",
    "# x = sepal length (cm)\n",
    "# y = petal length (cm)\n",
    "x = iris_data[:, 0]\n",
    "y = iris_data[:, 2]\n",
    "alpha = 0.05\n",
    "\n",
    "def f_test(x, y):\n",
    "    F = x.var() / y.var()\n",
    "    df1 = len(x) - 1\n",
    "    df2 = len(y) - 1\n",
    "    p_value = stats.f.cdf(F, df1, df2)\n",
    "    \n",
    "    return p_value"
   ]
  },
  {
   "cell_type": "code",
   "execution_count": null,
   "metadata": {},
   "outputs": [],
   "source": [
    "# 請檢定 iris dataset 中 Sepal Length 與 Petal Length 的變異數是否顯著不同：\n",
    "# Hint: 藉由比較顯著水準 alpha 和 F test 的 p.value\n",
    "# vt 為顯著相異的邏輯結果（TRUE / FALSE）\n",
    "vt = (f_test(x, y) <= alpha)\n",
    "print(vt)\n",
    "\n",
    "# 請檢定兩組樣本的平均數是否顯著不同：\n",
    "# Hint: Welch T-test (variance not equal)\n",
    "statistic, pvalue = stats.ttest_ind(x, y, equal_var = ~vt)\n",
    "print(pvalue <= alpha/2)"
   ]
  },
  {
   "cell_type": "code",
   "execution_count": null,
   "metadata": {},
   "outputs": [],
   "source": [
    "# T檢定：檢定不同品種花瓣(sepal width)的平均寬度是否不同\n",
    "# myData <- data.frame(value = iris$Sepal.Width[-(1:50)], group <- iris[-(1:50), 5])\n",
    "myData = pd.DataFrame(data = {'Sepal Width': iris_data[50:, 1], 'Classes': iris.target[50:]})\n",
    "alpha = 0.05\n",
    "\n",
    "# 請檢定 iris dataset 中 第2, 3類品種的變異數是否顯著不同：\n",
    "# Hint: 藉由比較顯著水準 alpha 和 Bartlett test 的 p.value\n",
    "# bt 為顯著相異的邏輯結果（TRUE / FALSE）\n",
    "statistic, pvalue = stats.bartlett(myData[myData['Classes']==1].values[:,0], myData[myData['Classes']==2].values[:,0])\n",
    "bt = (pvalue <= alpha)\n",
    "print(bt)\n",
    "\n",
    "# 請檢定兩組樣本的平均數是否顯著不同：\n",
    "# Hint: 2 sample T-test (variance not equal)\n",
    "statistic, pvalue = stats.ttest_ind(myData[myData['Classes']==1].values[:,0], myData[myData['Classes']==2].values[:,0], equal_var = ~bt)\n",
    "print(pvalue <= alpha/2)"
   ]
  },
  {
   "cell_type": "markdown",
   "metadata": {},
   "source": [
    "Permutation_T_Test(myData[myData['Classes']==1].values[:,0], myData[myData['Classes']==2].values[:,0]) <br>\n",
    "### ${50\\choose25} \\approx {1.26\\times 10^{14}} $ <br>\n",
    "請根據Permutation T Test 觀念完成下方的 Function!\n"
   ]
  },
  {
   "cell_type": "code",
   "execution_count": null,
   "metadata": {},
   "outputs": [],
   "source": [
    "def Permutation_T_Test(x, y):\n",
    "    import numpy as np\n",
    "    xs = np.array(x)\n",
    "    ys = np.array(y)\n",
    "\n",
    "    \n",
    "    return P_value_estimated"
   ]
  },
  {
   "cell_type": "markdown",
   "metadata": {},
   "source": [
    ">Your answer below should be less than $ \\alpha=0.05$"
   ]
  },
  {
   "cell_type": "code",
   "execution_count": null,
   "metadata": {},
   "outputs": [],
   "source": [
    "Permutation_T_Test(myData[myData['Classes']==1].values[:,0], myData[myData['Classes']==2].values[:,0])"
   ]
  },
  {
   "cell_type": "code",
   "execution_count": null,
   "metadata": {},
   "outputs": [],
   "source": [
    "if Permutation_T_Test(myData[myData['Classes']==1].values[:,0], myData[myData['Classes']==2].values[:,0]) < alpha:\n",
    "    print(\"根據既有樣本證據，Iris dataset 中 第2, 3類品種的 Sepal Width 平均數，在統計上顯著不同。\")\n",
    "else:\n",
    "    print(\"根據既有樣本證據，Iris dataset 中 第2, 3類品種的 Sepal Width 平均數，在統計上不顯著不同。\")"
   ]
  },
  {
   "cell_type": "markdown",
   "metadata": {},
   "source": [
    "## Question 2. 請分別以 Poisson Distribution 和 Normal approximation 估算發生機率 \n",
    "Customers arrive at a travel agency at a mean rate of 100 per hour. Assume that the number of arrivals per hour has a Poisson distribution, what is the probability that more than 69 customers arrive in a given hour?\n",
    "> Your answer using the Poisson distribution should return 0.9995565094985266 <br>\n",
    "> Your answer using the Normal approximation should return 0.9988557931689773"
   ]
  },
  {
   "cell_type": "code",
   "execution_count": null,
   "metadata": {},
   "outputs": [],
   "source": [
    "# By Poisson distribution - \n"
   ]
  },
  {
   "cell_type": "code",
   "execution_count": null,
   "metadata": {},
   "outputs": [],
   "source": [
    "# By Normal approximation - \n"
   ]
  },
  {
   "cell_type": "markdown",
   "metadata": {},
   "source": [
    "## Question 3. 請估算發生機率\n",
    "Suppose that inter arrival time of jobs submmitted to the server follows an Exponential distribution with mean inter arrival time of 38 seconds. What is the probability of 17 or more jobs in 87 seconds?\n",
    "> Your answer should be around 4.253465357706432e-10"
   ]
  },
  {
   "cell_type": "code",
   "execution_count": null,
   "metadata": {},
   "outputs": [],
   "source": [
    "# You may use the Exponential distribution, Poisson distribution or Gamma distribution\n"
   ]
  },
  {
   "cell_type": "markdown",
   "metadata": {},
   "source": [
    "## Question 4. 請估算至少所需的樣本數量\n",
    "It is known that the chemical process is normally distributed, with a standard deviation of 2.5g. How many samples must be taken to be 99% certain that an estimate of the mean process is within 1.0g of the true but unknown mean yield?\n",
    "> Your answer should be 34"
   ]
  },
  {
   "cell_type": "code",
   "execution_count": null,
   "metadata": {},
   "outputs": [],
   "source": [
    "# You may use the concept of Interval Estimation and Normal distribution\n",
    "import math\n"
   ]
  },
  {
   "cell_type": "markdown",
   "metadata": {},
   "source": [
    "## Question 5. 消費者觀點下的品質管控假說檢定\n",
    "The following table is a Confusion Matrix conducted by Quality Control.  Given the Null Hypothesis $H_0$ is Abnormal ( = Consumer's Risk = Buyer's Risk ) and Significance Level $\\alpha = 0.1$, please find out the Power and P(Type II Error) for Consumer's perspective."
   ]
  },
  {
   "cell_type": "code",
   "execution_count": null,
   "metadata": {},
   "outputs": [],
   "source": [
    "cnf_matrix = np.array([[7, 20], [1, 13]])\n",
    "class_names = [\"Normal\", \"Abnormal\"]"
   ]
  },
  {
   "cell_type": "code",
   "execution_count": null,
   "metadata": {},
   "outputs": [],
   "source": [
    "import matplotlib.pyplot as plt\n",
    "%matplotlib inline\n",
    "\n",
    "def plot_confusion_matrix(cm, classes,\n",
    "                          normalize=False,\n",
    "                          title='Confusion matrix',\n",
    "                          cmap=plt.cm.Blues):\n",
    "    \"\"\"\n",
    "    This function prints and plots the confusion matrix.\n",
    "    Normalization can be applied by setting `normalize=True`.\n",
    "    \"\"\"\n",
    "    if normalize:\n",
    "        cm = cm.astype('float') / cm.sum(axis=1)[:, np.newaxis]\n",
    "        print(\"Normalized confusion matrix\")\n",
    "    else:\n",
    "        print('Confusion matrix, without normalization')\n",
    "\n",
    "    print(cm)\n",
    "\n",
    "    plt.imshow(cm, interpolation='nearest', cmap=cmap)\n",
    "    plt.title(title)\n",
    "    plt.colorbar()\n",
    "    tick_marks = np.arange(len(classes))\n",
    "    plt.xticks(tick_marks, classes, rotation=45)\n",
    "    plt.yticks(tick_marks, classes)\n",
    "\n",
    "    fmt = '.2f' if normalize else 'd'\n",
    "    thresh = cm.max() / 2.\n",
    "    \n",
    "    import itertools\n",
    "    for i, j in itertools.product(range(cm.shape[0]), range(cm.shape[1])):\n",
    "        plt.text(j, i, format(cm[i, j], fmt),\n",
    "                 horizontalalignment=\"center\",\n",
    "                 color=\"white\" if cm[i, j] > thresh else \"black\")\n",
    "\n",
    "    plt.ylabel('True label')\n",
    "    plt.xlabel('Predicted label')\n",
    "    plt.tight_layout()\n"
   ]
  },
  {
   "cell_type": "code",
   "execution_count": null,
   "metadata": {},
   "outputs": [],
   "source": [
    "# Plot non-normalized confusion matrix\n",
    "plt.figure()\n",
    "plot_confusion_matrix(cnf_matrix, classes=class_names,\n",
    "                      title='Confusion matrix, without normalization')"
   ]
  },
  {
   "cell_type": "markdown",
   "metadata": {},
   "source": [
    "> Beta should be around 0.7407407407407407<br>\n",
    "> Power should be around 0.2592592592592593"
   ]
  },
  {
   "cell_type": "code",
   "execution_count": null,
   "metadata": {},
   "outputs": [],
   "source": [
    "# Type I Error = False Positive => Alpha = P( False Positive )\n",
    "# Type II Error = False Negative => Beta = P( False Negative )\n",
    "# Power = P( True Positive )\n",
    "Beta = \n",
    "Power = \n",
    "\n",
    "print(\"Beta = \", Beta)\n",
    "print('Power = ', Power)"
   ]
  },
  {
   "cell_type": "code",
   "execution_count": null,
   "metadata": {},
   "outputs": [],
   "source": []
  }
 ],
 "metadata": {
  "kernelspec": {
   "display_name": "Python 3",
   "language": "python",
   "name": "python3"
  },
  "language_info": {
   "codemirror_mode": {
    "name": "ipython",
    "version": 3
   },
   "file_extension": ".py",
   "mimetype": "text/x-python",
   "name": "python",
   "nbconvert_exporter": "python",
   "pygments_lexer": "ipython3",
   "version": "3.6.8"
  }
 },
 "nbformat": 4,
 "nbformat_minor": 2
}
